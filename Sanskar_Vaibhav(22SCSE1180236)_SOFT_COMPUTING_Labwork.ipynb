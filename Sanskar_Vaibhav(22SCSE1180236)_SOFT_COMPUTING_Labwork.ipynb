{
  "nbformat": 4,
  "nbformat_minor": 0,
  "metadata": {
    "colab": {
      "provenance": [],
      "include_colab_link": true
    },
    "kernelspec": {
      "name": "python3",
      "display_name": "Python 3"
    },
    "language_info": {
      "name": "python"
    }
  },
  "cells": [
    {
      "cell_type": "markdown",
      "metadata": {
        "id": "view-in-github",
        "colab_type": "text"
      },
      "source": [
        "<a href=\"https://colab.research.google.com/github/SanskarVaibhav/.ipython/blob/main/Sanskar_Vaibhav(22SCSE1180236)_SOFT_COMPUTING_Labwork.ipynb\" target=\"_parent\"><img src=\"https://colab.research.google.com/assets/colab-badge.svg\" alt=\"Open In Colab\"/></a>"
      ]
    },
    {
      "cell_type": "markdown",
      "source": [
        "**(1) Write a program to perform Union, Intersection and Complement operations.**         Name- Sanskar Vaibhav\n",
        "Adm.No.- 22SCSE1180236"
      ],
      "metadata": {
        "id": "ctkaw-DIyo2I"
      }
    },
    {
      "cell_type": "code",
      "execution_count": null,
      "metadata": {
        "id": "n762HKq5ITUH"
      },
      "outputs": [],
      "source": [
        "import numpy as np\n",
        "\n",
        "# Enter Data\n",
        "u = np.array(eval(input('Enter First Matrix (as a list of lists, e.g., [[1,2],[3,4]]): ')), dtype=float)\n",
        "v = np.array(eval(input('Enter Second Matrix (as a list of lists, e.g., [[1,0],[0,1]]): ')), dtype=float)\n",
        "\n",
        "# To Perform Operations\n",
        "w = np.maximum(u, v)  # Union\n",
        "p = np.minimum(u, v)  # Intersection\n",
        "q1 = 1 - u            # Complement of the first matrix\n",
        "q2 = 1 - v            # Complement of the second matrix\n",
        "\n",
        "\n",
        "\n",
        "# Display Output\n",
        "print('Union Of Two Matrices')\n",
        "print(w)\n",
        "print('Intersection Of Two Matrices')\n",
        "print(p)\n",
        "print('Complement Of First Matrix')\n",
        "print(q1)\n",
        "print('Complement Of Second Matrix')\n",
        "print(q2)"
      ]
    },
    {
      "cell_type": "code",
      "source": [
        "\n"
      ],
      "metadata": {
        "id": "DIQ3p31AFHjD"
      },
      "execution_count": null,
      "outputs": []
    },
    {
      "cell_type": "markdown",
      "source": [
        "**(2) Generate AND/OR function using McCulloch-Pitts neural net.**\n",
        "Name- Sanskar Vaibhav\n",
        "Adm.No.- 22SCSE1180236"
      ],
      "metadata": {
        "id": "-TV6ULNaFIRr"
      }
    },
    {
      "cell_type": "code",
      "source": [
        "def mcculloch_pitts_neuron(inputs, weights, threshold):\n",
        "    # Calculate the weighted sum\n",
        "    weighted_sum = sum(i * w for i, w in zip(inputs, weights))\n",
        "\n",
        "    # Apply the activation function\n",
        "    output = 1 if weighted_sum >= threshold else 0\n",
        "\n",
        "    return output\n",
        "\n",
        "# AND function\n",
        "inputs = [1, 1]  # Example input\n",
        "weights = [1, 1]\n",
        "threshold = 2\n",
        "\n",
        "output = mcculloch_pitts_neuron(inputs, weights, threshold)\n",
        "print(f\"Output of AND function: {output}\")"
      ],
      "metadata": {
        "id": "FaJNrdPXYCKk",
        "colab": {
          "base_uri": "https://localhost:8080/"
        },
        "outputId": "5c944e7d-7cf6-4b20-a2ce-1cd21b2323b6"
      },
      "execution_count": null,
      "outputs": [
        {
          "output_type": "stream",
          "name": "stdout",
          "text": [
            "Output of AND function: 1\n"
          ]
        }
      ]
    },
    {
      "cell_type": "code",
      "source": [
        "# OR function\n",
        "threshold = 1\n",
        "\n",
        "output = mcculloch_pitts_neuron(inputs, weights, threshold)\n",
        "print(f\"Output of OR function: {output}\")"
      ],
      "metadata": {
        "colab": {
          "base_uri": "https://localhost:8080/"
        },
        "id": "R9C_zeDKYKzs",
        "outputId": "5c5cb664-83a0-4ff3-b85b-04d0b41578d6"
      },
      "execution_count": null,
      "outputs": [
        {
          "output_type": "stream",
          "name": "stdout",
          "text": [
            "Output of OR function: 1\n"
          ]
        }
      ]
    },
    {
      "cell_type": "code",
      "source": [
        "# NOT function\n",
        "inputs = [1]  # Example input\n",
        "weights = [-1]\n",
        "threshold = 0\n",
        "\n",
        "output = mcculloch_pitts_neuron(inputs, weights, threshold)\n",
        "print(f\"Output of NOT function: {output}\")"
      ],
      "metadata": {
        "id": "BvMlxJL0YPia"
      },
      "execution_count": null,
      "outputs": []
    },
    {
      "cell_type": "markdown",
      "source": [
        "**(3) Implement AND function using perceptron networks for bipolar inputs and targets.**\n",
        "Name- Sanskar Vaibhav\n",
        "Adm.No.- 22SCSE1180236"
      ],
      "metadata": {
        "id": "XTytvGqvDSiy"
      }
    },
    {
      "cell_type": "code",
      "source": [
        "\n",
        "import numpy as np\n",
        "\n",
        "# Activation function for the perceptron\n",
        "def activation(net_input):\n",
        "    return 1 if net_input >= 0 else -1  # Bipolar output\n",
        "\n",
        "# Perceptron learning algorithm\n",
        "def perceptron_train(inputs, targets, learning_rate=0.1, epochs=100):\n",
        "    # Initialize weights and bias randomly\n",
        "    weights = np.random.randn(inputs.shape[1])\n",
        "    bias = np.random.randn()\n",
        "\n",
        "    for epoch in range(epochs):\n",
        "        total_error = 0\n",
        "        for x, target in zip(inputs, targets):\n",
        "            # Calculate the net input\n",
        "            net_input = np.dot(x, weights) + bias\n",
        "            # Predict the output\n",
        "            output = activation(net_input)\n",
        "            # Calculate the error (difference between target and predicted output)\n",
        "            error = target - output\n",
        "            # Update weights and bias using the perceptron rule\n",
        "            weights += learning_rate * error * x\n",
        "            bias += learning_rate * error\n",
        "            # Accumulate the total error\n",
        "            total_error += abs(error)\n",
        "\n",
        "        # Print the total error for each epoch\n",
        "        print(f'Epoch {epoch + 1}/{epochs}, Total Error: {total_error}')\n",
        "        # If total error is 0, we can stop early (the network has learned)\n",
        "        if total_error == 0:\n",
        "            break\n",
        "\n",
        "    return weights, bias\n",
        "\n",
        "# Test the perceptron network\n",
        "def perceptron_predict(inputs, weights, bias):\n",
        "    # Predict outputs for all inputs\n",
        "    predictions = []\n",
        "    for x in inputs:\n",
        "        net_input = np.dot(x, weights) + bias\n",
        "        output = activation(net_input)\n",
        "        predictions.append(output)\n",
        "    return np.array(predictions)\n",
        "\n",
        "# AND function using bipolar inputs (-1, 1)\n",
        "inputs = np.array([\n",
        "    [-1, -1],\n",
        "    [-1,  1],\n",
        "    [ 1, -1],\n",
        "    [ 1,  1]\n",
        "])\n",
        "\n",
        "# AND function outputs (bipolar targets)\n",
        "targets = np.array([-1, -1, -1, 1])\n",
        "\n",
        "# Train the Perceptron network\n",
        "learning_rate = 0.1\n",
        "epochs = 100\n",
        "weights, bias = perceptron_train(inputs, targets, learning_rate, epochs)\n",
        "\n",
        "# Test the network on the same inputs\n",
        "predictions = perceptron_predict(inputs, weights, bias)\n",
        "\n",
        "# Display results\n",
        "print(\"\\nFinal Weights:\", weights)\n",
        "print(\"Final Bias:\", bias)\n",
        "print(\"\\nPredictions:\")\n",
        "for i, (x, target) in enumerate(zip(inputs, targets)):\n",
        "    print(f\"Input: {x}, Target: {target}, Predicted: {predictions[i]}\")"
      ],
      "metadata": {
        "id": "R_v2tXYcp7-l"
      },
      "execution_count": null,
      "outputs": []
    },
    {
      "cell_type": "markdown",
      "source": [
        "**(4) Implement OR function with bipolar inputs and targets using Adaline network.**\n",
        "Name- Sanskar Vaibhav\n",
        "Adm.No.- 22SCSE1180236"
      ],
      "metadata": {
        "id": "y0ab2JvHENai"
      }
    },
    {
      "cell_type": "code",
      "source": [
        "\n",
        "import numpy as np\n",
        "\n",
        "# Activation function (linear in ADALINE, no thresholding needed here)\n",
        "def activation(net_input):\n",
        "    return net_input  # Identity function (linear activation)\n",
        "\n",
        "# Adaline learning algorithm\n",
        "def adaline_train(inputs, targets, learning_rate=0.1, epochs=100):\n",
        "    # Initialize weights and bias\n",
        "    weights = np.random.randn(inputs.shape[1])\n",
        "    bias = np.random.randn()\n",
        "\n",
        "    for epoch in range(epochs):\n",
        "        total_error = 0\n",
        "        for x, target in zip(inputs, targets):\n",
        "            # Calculate the net input\n",
        "            net_input = np.dot(x, weights) + bias\n",
        "            # Predict the output\n",
        "            output = activation(net_input)\n",
        "            # Calculate the error (difference between target and predicted output)\n",
        "            error = target - output\n",
        "            # Update weights and bias using LMS (gradient descent)\n",
        "            weights += learning_rate * error * x\n",
        "            bias += learning_rate * error\n",
        "            # Accumulate squared error for this epoch\n",
        "            total_error += error ** 2\n",
        "\n",
        "        # Print the total error for monitoring\n",
        "        print(f'Epoch {epoch + 1}/{epochs}, Total Error: {total_error}')\n",
        "        if total_error < 0.01:  # Early stopping condition if error is sufficiently low\n",
        "            break\n",
        "\n",
        "    return weights, bias\n",
        "\n",
        "# Test the ADALINE network\n",
        "def adaline_predict(inputs, weights, bias):\n",
        "    # Predict outputs for all inputs\n",
        "    predictions = []\n",
        "    for x in inputs:\n",
        "        net_input = np.dot(x, weights) + bias\n",
        "        output = activation(net_input)\n",
        "        # Since it's a bipolar function, we'll threshold the output\n",
        "        predictions.append(1 if output >= 0 else -1)\n",
        "    return np.array(predictions)\n",
        "\n",
        "# OR function using bipolar inputs (-1, 1)\n",
        "inputs = np.array([\n",
        "    [-1, -1],\n",
        "    [-1,  1],\n",
        "    [ 1, -1],\n",
        "    [ 1,  1]\n",
        "])\n",
        "\n",
        "# OR function outputs (bipolar targets)\n",
        "targets = np.array([-1, 1, 1, 1])\n",
        "\n",
        "# Train the ADALINE network\n",
        "learning_rate = 0.1\n",
        "epochs = 100\n",
        "weights, bias = adaline_train(inputs, targets, learning_rate, epochs)\n",
        "\n",
        "# Test the network on the same inputs\n",
        "predictions = adaline_predict(inputs, weights, bias)\n",
        "\n",
        "# Display results\n",
        "print(\"\\nFinal Weights:\", weights)\n",
        "print(\"Final Bias:\", bias)\n",
        "print(\"\\nPredictions:\")\n",
        "for i, (x, target) in enumerate(zip(inputs, targets)):\n",
        "    print(f\"Input: {x}, Target: {target}, Predicted: {predictions[i]}\")"
      ],
      "metadata": {
        "id": "ijyOZMi2pnP2"
      },
      "execution_count": null,
      "outputs": []
    },
    {
      "cell_type": "markdown",
      "source": [
        "**(5) Using back-propagation network, find the new weights. It is presented with the input pattern [0, 1] and the target output is 1. Use a learning rate a =0.25 and binary sigmoidal activation function.**\n",
        "Name- Sanskar Vaibhav\n",
        "Adm.No.- 22SCSE1180236"
      ],
      "metadata": {
        "id": "Rfw5zMpB7aED"
      }
    },
    {
      "cell_type": "code",
      "source": [
        "import numpy as np\n",
        "\n",
        "# Activation function: Sigmoid and its derivative\n",
        "def sigmoid(x):\n",
        "    return 1 / (1 + np.exp(-x))\n",
        "\n",
        "def sigmoid_derivative(x):\n",
        "    return x * (1 - x)\n",
        "\n",
        "# Training data: AND function\n",
        "inputs = np.array([\n",
        "    [0, 0],\n",
        "    [0, 1],\n",
        "    [1, 0],\n",
        "    [1, 1]\n",
        "])\n",
        "\n",
        "# Target outputs for AND function\n",
        "targets = np.array([[0], [0], [0], [1]])\n",
        "\n",
        "# Initialize weights and biases\n",
        "np.random.seed(1)  # For reproducibility\n",
        "input_layer_neurons = 2    # Number of input neurons\n",
        "hidden_layer_neurons = 2   # Number of hidden neurons\n",
        "output_layer_neurons = 1   # Number of output neurons\n",
        "\n",
        "# Weights and biases\n",
        "weights_input_hidden = np.random.rand(input_layer_neurons, hidden_layer_neurons)\n",
        "weights_hidden_output = np.random.rand(hidden_layer_neurons, output_layer_neurons)\n",
        "bias_hidden = np.random.rand(1, hidden_layer_neurons)\n",
        "bias_output = np.random.rand(1, output_layer_neurons)\n",
        "\n",
        "# Learning rate\n",
        "learning_rate = 0.1\n",
        "epochs = 10000\n",
        "\n",
        "# Training process\n",
        "for epoch in range(epochs):\n",
        "    # Forward pass\n",
        "    hidden_input = np.dot(inputs, weights_input_hidden) + bias_hidden\n",
        "    hidden_output = sigmoid(hidden_input)\n",
        "\n",
        "    final_input = np.dot(hidden_output, weights_hidden_output) + bias_output\n",
        "    final_output = sigmoid(final_input)\n",
        "\n",
        "    # Calculate the error (loss)\n",
        "    error = targets - final_output\n",
        "\n",
        "    # Backpropagation\n",
        "    d_output = error * sigmoid_derivative(final_output)\n",
        "\n",
        "    # Error at hidden layer\n",
        "    error_hidden = d_output.dot(weights_hidden_output.T)\n",
        "    d_hidden = error_hidden * sigmoid_derivative(hidden_output)\n",
        "\n",
        "    # Update weights and biases\n",
        "    weights_hidden_output += hidden_output.T.dot(d_output) * learning_rate\n",
        "    weights_input_hidden += inputs.T.dot(d_hidden) * learning_rate\n",
        "    bias_output += np.sum(d_output, axis=0, keepdims=True) * learning_rate\n",
        "    bias_hidden += np.sum(d_hidden, axis=0, keepdims=True) * learning_rate\n",
        "\n",
        "# Display final outputs\n",
        "print(\"Final outputs after training:\")\n",
        "print(final_output)"
      ],
      "metadata": {
        "id": "gcVvfpJ_pvyd"
      },
      "execution_count": null,
      "outputs": []
    },
    {
      "cell_type": "code",
      "source": [
        "import numpy as np\n",
        "\n",
        "# Sigmoid activation function and its derivative\n",
        "def sigmoid(x):\n",
        "    return 1 / (1 + np.exp(-x))\n",
        "\n",
        "def sigmoid_derivative(x):\n",
        "    return x * (1 - x)\n",
        "\n",
        "# Given data\n",
        "inputs = np.array([[0, 1]])  # Input pattern [0, 1]\n",
        "target = np.array([[1]])     # Target output 1\n",
        "learning_rate = 0.25         # Learning rate alpha\n",
        "\n",
        "# Initializing weights randomly\n",
        "np.random.seed(42)  # For reproducibility\n",
        "weights_input_hidden = np.random.rand(2, 2)  # 2 input neurons, 2 hidden neurons\n",
        "weights_hidden_output = np.random.rand(2, 1)  # 2 hidden neurons, 1 output neuron\n",
        "bias_hidden = np.random.rand(1, 2)  # Bias for hidden layer\n",
        "bias_output = np.random.rand(1, 1)  # Bias for output layer\n",
        "\n",
        "# Forward Pass\n",
        "hidden_input = np.dot(inputs, weights_input_hidden) + bias_hidden\n",
        "hidden_output = sigmoid(hidden_input)  # Activation function at hidden layer\n",
        "\n",
        "final_input = np.dot(hidden_output, weights_hidden_output) + bias_output\n",
        "final_output = sigmoid(final_input)  # Activation function at output layer\n",
        "\n",
        "# Error Calculation\n",
        "error = target - final_output\n",
        "\n",
        "# Backward Pass\n",
        "# Calculate the gradient for output layer\n",
        "d_output = error * sigmoid_derivative(final_output)\n",
        "\n",
        "# Calculate the gradient for hidden layer\n",
        "error_hidden = d_output.dot(weights_hidden_output.T)\n",
        "d_hidden = error_hidden * sigmoid_derivative(hidden_output)\n",
        "\n",
        "# Update weights and biases\n",
        "weights_hidden_output += hidden_output.T.dot(d_output) * learning_rate\n",
        "weights_input_hidden += inputs.T.dot(d_hidden) * learning_rate\n",
        "bias_output += np.sum(d_output, axis=0, keepdims=True) * learning_rate\n",
        "bias_hidden += np.sum(d_hidden, axis=0, keepdims=True) * learning_rate\n",
        "\n",
        "# Display results\n",
        "print(\"Updated weights from input to hidden layer:\\n\", weights_input_hidden)\n",
        "print(\"Updated weights from hidden to output layer:\\n\", weights_hidden_output)\n",
        "print(\"Updated hidden layer bias:\\n\", bias_hidden)\n",
        "print(\"Updated output layer bias:\\n\", bias_output)"
      ],
      "metadata": {
        "colab": {
          "base_uri": "https://localhost:8080/"
        },
        "id": "g_O61zgT7Ux9",
        "outputId": "7b7435b5-58c1-4b28-dd46-a21d05b20240"
      },
      "execution_count": null,
      "outputs": [
        {
          "output_type": "stream",
          "name": "stdout",
          "text": [
            "Updated weights from input to hidden layer:\n",
            " [[0.37454012 0.95071431]\n",
            " [0.73252863 0.59903816]]\n",
            "Updated weights from hidden to output layer:\n",
            " [[0.16699757]\n",
            " [0.1689594 ]]\n",
            "Updated hidden layer bias:\n",
            " [[0.0586183  0.86655582]]\n",
            "Updated output layer bias:\n",
            " [[0.61707628]]\n"
          ]
        }
      ]
    },
    {
      "cell_type": "markdown",
      "source": [
        "**(6) To explore and implement fundamental fuzzy set operations (union, intersection, difference, complement, etc.) on given sensor detection levels.**\n",
        "Name- Sanskar Vaibhav\n",
        "Adm.No.- 22SCSE1180236"
      ],
      "metadata": {
        "id": "4HOqf21cTFH5"
      }
    },
    {
      "cell_type": "code",
      "source": [
        "import numpy as np\n",
        "\n",
        "# Define the detection levels for each sensor at different gain settings\n",
        "sensor_1 = np.array([0.3, 0.7, 1.0, 0.5])\n",
        "sensor_2 = np.array([0.5, 0.6, 0.9, 0.7])\n",
        "\n",
        "# Fuzzy union: Maximum detection level between the two sensors\n",
        "fuzzy_union = np.maximum(sensor_1, sensor_2)\n",
        "\n",
        "# Fuzzy intersection: Minimum detection level between the two sensors\n",
        "fuzzy_intersection = np.minimum(sensor_1, sensor_2)\n",
        "\n",
        "# Fuzzy difference: Sensor 1 - Sensor 2\n",
        "fuzzy_difference = np.maximum(sensor_1 - sensor_2, 0)\n",
        "\n",
        "# Print the results\n",
        "print(\"Sensor 1 Detection Levels:\", sensor_1)\n",
        "print(\"Sensor 2 Detection Levels:\", sensor_2)\n",
        "print(\"Union (max) of Detection Levels:\", fuzzy_union)\n",
        "print(\"Intersection (min) of Detection Levels:\", fuzzy_intersection)\n",
        "print(\"Difference (Sensor 1 - Sensor 2):\", fuzzy_difference)\n"
      ],
      "metadata": {
        "colab": {
          "base_uri": "https://localhost:8080/"
        },
        "id": "xyVchDBKRsQS",
        "outputId": "b7079aee-a6a9-4d04-a2a6-dbbab3fd1ec4"
      },
      "execution_count": null,
      "outputs": [
        {
          "output_type": "stream",
          "name": "stdout",
          "text": [
            "Sensor 1 Detection Levels: [0.3 0.7 1.  0.5]\n",
            "Sensor 2 Detection Levels: [0.5 0.6 0.9 0.7]\n",
            "Union (max) of Detection Levels: [0.5 0.7 1.  0.7]\n",
            "Intersection (min) of Detection Levels: [0.3 0.6 0.9 0.5]\n",
            "Difference (Sensor 1 - Sensor 2): [0.  0.1 0.1 0. ]\n"
          ]
        }
      ]
    },
    {
      "cell_type": "markdown",
      "source": [
        "**(7) Max-Min and Max-Product Composition of Fuzzy Relations\n",
        "To compute and compare the Max-Min and Max-Product compositions of two given fuzzy relations, demonstrating different methods of composing fuzzy relations for decision-making in fuzzy logic systems.**\n",
        "Name- Sanskar Vaibhav\n",
        "Adm.No.- 22SCSE1180236"
      ],
      "metadata": {
        "id": "GYhoI3v-Lh71"
      }
    },
    {
      "cell_type": "code",
      "source": [
        "import numpy as np\n",
        "\n",
        "# Define the detection levels for two sensors (as fuzzy sets)\n",
        "sensor_1 = np.array([0.3, 0.7, 1.0, 0.5])\n",
        "sensor_2 = np.array([0.5, 0.6, 0.9, 0.7])\n",
        "\n",
        "# Fuzzy Union (max)\n",
        "fuzzy_union = np.maximum(sensor_1, sensor_2)\n",
        "\n",
        "# Fuzzy Intersection (min)\n",
        "fuzzy_intersection = np.minimum(sensor_1, sensor_2)\n",
        "\n",
        "# Fuzzy Difference (A - B)\n",
        "fuzzy_difference = np.maximum(sensor_1 - sensor_2, 0)\n",
        "\n",
        "# Fuzzy Complement of Sensor 1\n",
        "fuzzy_complement_1 = 1 - sensor_1\n",
        "\n",
        "# Algebraic Sum\n",
        "fuzzy_algebraic_sum = sensor_1 + sensor_2 - sensor_1 * sensor_2\n",
        "\n",
        "# Algebraic Product\n",
        "fuzzy_algebraic_product = sensor_1 * sensor_2\n",
        "\n",
        "# Bounded Sum\n",
        "fuzzy_bounded_sum = np.minimum(1, sensor_1 + sensor_2)\n",
        "\n",
        "# Bounded Difference\n",
        "fuzzy_bounded_difference = np.maximum(0, sensor_1 - sensor_2)\n",
        "\n",
        "# Drastic Sum\n",
        "def drastic_sum(a, b):\n",
        "    return np.where(a == 0, b, np.where(b == 0, a, 1))\n",
        "\n",
        "fuzzy_drastic_sum = drastic_sum(sensor_1, sensor_2)\n",
        "\n",
        "# Drastic Product\n",
        "def drastic_product(a, b):\n",
        "    return np.where((a == 0) | (b == 0), 0, np.minimum(a, b))\n",
        "\n",
        "fuzzy_drastic_product = drastic_product(sensor_1, sensor_2)\n",
        "\n",
        "# Print all results\n",
        "print(\"Sensor 1 Detection Levels:\", sensor_1)\n",
        "print(\"Sensor 2 Detection Levels:\", sensor_2)\n",
        "print(\"Union (max):\", fuzzy_union)\n",
        "print(\"Intersection (min):\", fuzzy_intersection)\n",
        "print(\"Difference (Sensor 1 - Sensor 2):\", fuzzy_difference)\n",
        "print(\"Complement of Sensor 1:\", fuzzy_complement_1)\n",
        "print(\"Algebraic Sum:\", fuzzy_algebraic_sum)\n",
        "print(\"Algebraic Product:\", fuzzy_algebraic_product)\n",
        "print(\"Bounded Sum:\", fuzzy_bounded_sum)\n",
        "print(\"Bounded Difference:\", fuzzy_bounded_difference)\n",
        "print(\"Drastic Sum:\", fuzzy_drastic_sum)\n",
        "print(\"Drastic Product:\", fuzzy_drastic_product)\n"
      ],
      "metadata": {
        "colab": {
          "base_uri": "https://localhost:8080/"
        },
        "id": "WciwpcPzSjG3",
        "outputId": "c3ce4cef-ce12-4367-fb7a-ec22a36c405c"
      },
      "execution_count": null,
      "outputs": [
        {
          "output_type": "stream",
          "name": "stdout",
          "text": [
            "Sensor 1 Detection Levels: [0.3 0.7 1.  0.5]\n",
            "Sensor 2 Detection Levels: [0.5 0.6 0.9 0.7]\n",
            "Union (max): [0.5 0.7 1.  0.7]\n",
            "Intersection (min): [0.3 0.6 0.9 0.5]\n",
            "Difference (Sensor 1 - Sensor 2): [0.  0.1 0.1 0. ]\n",
            "Complement of Sensor 1: [0.7 0.3 0.  0.5]\n",
            "Algebraic Sum: [0.65 0.88 1.   0.85]\n",
            "Algebraic Product: [0.15 0.42 0.9  0.35]\n",
            "Bounded Sum: [0.8 1.  1.  1. ]\n",
            "Bounded Difference: [0.  0.1 0.1 0. ]\n",
            "Drastic Sum: [1. 1. 1. 1.]\n",
            "Drastic Product: [0.3 0.6 0.9 0.5]\n"
          ]
        }
      ]
    },
    {
      "cell_type": "code",
      "source": [
        "import numpy as np\n",
        "\n",
        "# Define fuzzy relations R and S\n",
        "R = np.array([[0.6, 0.3],\n",
        "              [0.2, 0.9]])\n",
        "\n",
        "S = np.array([[1, 0.5, 0.3],\n",
        "              [0.8, 0.4, 0.7]])\n",
        "\n",
        "# Initialize the result matrices for Max-Min and Max-Product\n",
        "T_max_min = np.zeros((R.shape[0], S.shape[1]))\n",
        "T_max_product = np.zeros((R.shape[0], S.shape[1]))\n",
        "\n",
        "# Perform both Max-Min and Max-Product compositions\n",
        "for i in range(R.shape[0]):  # For each row in R\n",
        "    for j in range(S.shape[1]):  # For each column in S\n",
        "        min_values = []\n",
        "        product_values = []\n",
        "        for k in range(R.shape[1]):  # Iterate over the second dimension (shared by R and S)\n",
        "            min_values.append(min(R[i, k], S[k, j]))  # Calculate the min for Max-Min composition\n",
        "            product_values.append(R[i, k] * S[k, j])  # Calculate the product for Max-Product composition\n",
        "        T_max_min[i, j] = max(min_values)  # Store the max of the min values for Max-Min composition\n",
        "        T_max_product[i, j] = max(product_values)  # Store the max of the product values for Max-Product composition\n",
        "\n",
        "# Output the resulting composition matrices\n",
        "print(\"Max-Min Composition:\")\n",
        "print(T_max_min)\n",
        "print(\"\\nMax-Product Composition:\")\n",
        "print(T_max_product)\n"
      ],
      "metadata": {
        "colab": {
          "base_uri": "https://localhost:8080/"
        },
        "id": "pWM4gpjHKwUy",
        "outputId": "4eb372f3-bf5f-418c-de9e-4fee1f3817c5"
      },
      "execution_count": null,
      "outputs": [
        {
          "output_type": "stream",
          "name": "stdout",
          "text": [
            "Max-Min Composition:\n",
            "[[0.6 0.5 0.3]\n",
            " [0.8 0.4 0.7]]\n",
            "\n",
            "Max-Product Composition:\n",
            "[[0.6  0.3  0.21]\n",
            " [0.72 0.36 0.63]]\n"
          ]
        }
      ]
    },
    {
      "cell_type": "markdown",
      "source": [
        "**(8) Lambda-Cuts and Operations on Fuzzy Sets: Union, Intersection, and Complement**\n",
        "Name- Sanskar Vaibhav\n",
        "Adm.No.- 22SCSE1180236"
      ],
      "metadata": {
        "id": "1VbOxq4MUHuT"
      }
    },
    {
      "cell_type": "code",
      "source": [
        "import numpy as np\n",
        "\n",
        "# Defining the fuzzy sets A and B\n",
        "A = np.array([0.2, 0.3, 0.4, 0.7, 0.1])\n",
        "B = np.array([0.4, 0.5, 0.6, 0.8, 0.9])\n",
        "\n",
        "# Defining the λ-cuts\n",
        "lambdas = [0.7, 0.2, 0.6, 0.5, 0.7, 0.3, 0.6, 0.8]\n",
        "\n",
        "# Union of A and B: max(A, B)\n",
        "A_union_B = np.maximum(A, B)\n",
        "\n",
        "# Intersection of A and B: min(A, B)\n",
        "A_intersect_B = np.minimum(A, B)\n",
        "\n",
        "# Applying λ-cuts\n",
        "def lambda_cut(fuzzy_set, lambda_value):\n",
        "    return [xi if mu >= lambda_value else 0 for xi, mu in enumerate(fuzzy_set, 1)]\n",
        "\n",
        "# Compute λ-cuts for each case\n",
        "print(\"Lambda cuts and operations:\")\n",
        "for lam in lambdas:\n",
        "    A_cut = lambda_cut(A, lam)\n",
        "    B_cut = lambda_cut(B, lam)\n",
        "\n",
        "    print(f\"\\nλ-cut for λ = {lam}:\")\n",
        "    print(f\"A: {A_cut}\")\n",
        "    print(f\"B: {B_cut}\")\n",
        "\n",
        "    # Union and Intersection with λ\n",
        "    A_union_B_cut = lambda_cut(A_union_B, lam)\n",
        "    A_intersect_B_cut = lambda_cut(A_intersect_B, lam)\n",
        "\n",
        "    print(f\"A ∪ B: {A_union_B_cut}\")\n",
        "    print(f\"A ∩ B: {A_intersect_B_cut}\")\n"
      ],
      "metadata": {
        "colab": {
          "base_uri": "https://localhost:8080/"
        },
        "id": "yBQ5F0JQSzQr",
        "outputId": "1dac62b8-a912-4af8-9d6c-6c6249e282fe"
      },
      "execution_count": null,
      "outputs": [
        {
          "output_type": "stream",
          "name": "stdout",
          "text": [
            "Lambda cuts and operations:\n",
            "\n",
            "λ-cut for λ = 0.7:\n",
            "A: [0, 0, 0, 4, 0]\n",
            "B: [0, 0, 0, 4, 5]\n",
            "A ∪ B: [0, 0, 0, 4, 5]\n",
            "A ∩ B: [0, 0, 0, 4, 0]\n",
            "\n",
            "λ-cut for λ = 0.2:\n",
            "A: [1, 2, 3, 4, 0]\n",
            "B: [1, 2, 3, 4, 5]\n",
            "A ∪ B: [1, 2, 3, 4, 5]\n",
            "A ∩ B: [1, 2, 3, 4, 0]\n",
            "\n",
            "λ-cut for λ = 0.6:\n",
            "A: [0, 0, 0, 4, 0]\n",
            "B: [0, 0, 3, 4, 5]\n",
            "A ∪ B: [0, 0, 3, 4, 5]\n",
            "A ∩ B: [0, 0, 0, 4, 0]\n",
            "\n",
            "λ-cut for λ = 0.5:\n",
            "A: [0, 0, 0, 4, 0]\n",
            "B: [0, 2, 3, 4, 5]\n",
            "A ∪ B: [0, 2, 3, 4, 5]\n",
            "A ∩ B: [0, 0, 0, 4, 0]\n",
            "\n",
            "λ-cut for λ = 0.7:\n",
            "A: [0, 0, 0, 4, 0]\n",
            "B: [0, 0, 0, 4, 5]\n",
            "A ∪ B: [0, 0, 0, 4, 5]\n",
            "A ∩ B: [0, 0, 0, 4, 0]\n",
            "\n",
            "λ-cut for λ = 0.3:\n",
            "A: [0, 2, 3, 4, 0]\n",
            "B: [1, 2, 3, 4, 5]\n",
            "A ∪ B: [1, 2, 3, 4, 5]\n",
            "A ∩ B: [0, 2, 3, 4, 0]\n",
            "\n",
            "λ-cut for λ = 0.6:\n",
            "A: [0, 0, 0, 4, 0]\n",
            "B: [0, 0, 3, 4, 5]\n",
            "A ∪ B: [0, 0, 3, 4, 5]\n",
            "A ∩ B: [0, 0, 0, 4, 0]\n",
            "\n",
            "λ-cut for λ = 0.8:\n",
            "A: [0, 0, 0, 0, 0]\n",
            "B: [0, 0, 0, 4, 5]\n",
            "A ∪ B: [0, 0, 0, 4, 5]\n",
            "A ∩ B: [0, 0, 0, 0, 0]\n"
          ]
        }
      ]
    },
    {
      "cell_type": "code",
      "source": [
        "import numpy as np\n",
        "\n",
        "# Define the fuzzy sets as dictionaries\n",
        "fuzzy_A = {'x1': 0.2, 'x2': 0.3, 'x3': 0.4, 'x4': 0.7, 'x5': 0.1}\n",
        "fuzzy_B = {'x1': 0.4, 'x2': 0.5, 'x3': 0.6, 'x4': 0.8, 'x5': 0.9}\n",
        "\n",
        "# Define lambda value\n",
        "lambda_cut = 0.7\n",
        "\n",
        "# Lambda cut for fuzzy set A\n",
        "lambda_cut_A = {x: fuzzy_A[x] for x in fuzzy_A if fuzzy_A[x] >= lambda_cut}\n",
        "print(f\"Lambda-cut of A (lambda={lambda_cut}): {lambda_cut_A}\")\n",
        "\n",
        "# Lambda cut for fuzzy set B\n",
        "lambda_cut_B = {x: fuzzy_B[x] for x in fuzzy_B if fuzzy_B[x] >= lambda_cut}\n",
        "print(f\"Lambda-cut of B (lambda={lambda_cut}): {lambda_cut_B}\")\n",
        "\n",
        "# Union of fuzzy sets A and B at lambda-cut\n",
        "union_AB = {x: max(fuzzy_A[x], fuzzy_B[x]) for x in fuzzy_A if max(fuzzy_A[x], fuzzy_B[x]) >= lambda_cut}\n",
        "print(f\"Union of A and B (lambda={lambda_cut}): {union_AB}\")\n",
        "\n",
        "# Intersection of fuzzy sets A and B at lambda-cut\n",
        "intersection_AB = {x: min(fuzzy_A[x], fuzzy_B[x]) for x in fuzzy_A if min(fuzzy_A[x], fuzzy_B[x]) >= lambda_cut}\n",
        "print(f\"Intersection of A and B (lambda={lambda_cut}): {intersection_AB}\")\n"
      ],
      "metadata": {
        "colab": {
          "base_uri": "https://localhost:8080/"
        },
        "id": "7YIMs_v1T3wM",
        "outputId": "ca594b75-c25c-4fe3-9040-bdcfcd320554"
      },
      "execution_count": null,
      "outputs": [
        {
          "output_type": "stream",
          "name": "stdout",
          "text": [
            "Lambda-cut of A (lambda=0.7): {'x4': 0.7}\n",
            "Lambda-cut of B (lambda=0.7): {'x4': 0.8, 'x5': 0.9}\n",
            "Union of A and B (lambda=0.7): {'x4': 0.8, 'x5': 0.9}\n",
            "Intersection of A and B (lambda=0.7): {'x4': 0.7}\n"
          ]
        }
      ]
    },
    {
      "cell_type": "markdown",
      "source": [
        "**(9) Write a program to plot various membership functions.**\n",
        "**(i)   Triangular membership function**\n",
        "**(ii)  Trapezoidal membership function**\n",
        "**(iii) Bell-shaped membership function**\n",
        "\n",
        "Name- Sanskar Vaibhav\n",
        "Adm.No.- 22SCSE1180236"
      ],
      "metadata": {
        "id": "B5G-JJ_cpwQa"
      }
    },
    {
      "cell_type": "code",
      "source": [
        "import numpy as np\n",
        "import matplotlib.pyplot as plt\n",
        "\n",
        "# Triangular Membership Function\n",
        "def triangular_mf(x, a, b, c):\n",
        "    return np.maximum(0, np.minimum((x-a)/(b-a), (c-x)/(c-b)))\n",
        "\n",
        "# Trapezoidal Membership Function\n",
        "def trapezoidal_mf(x, a, b, c, d):\n",
        "    return np.maximum(0, np.minimum(np.minimum((x-a)/(b-a), 1), (d-x)/(d-c)))\n",
        "\n",
        "# Bell-shaped Membership Function\n",
        "def bell_shaped_mf(x, a, b, c):\n",
        "    return 1 / (1 + np.abs((x-c)/a)**(2*b))\n",
        "\n",
        "# Generate values for x\n",
        "x = np.linspace(0, 10, 1000)\n",
        "\n",
        "# Plot Triangular Membership Function\n",
        "tri_mf = triangular_mf(x, 2, 5, 8)\n",
        "plt.plot(x, tri_mf, label='Triangular MF')\n",
        "\n",
        "# Plot Trapezoidal Membership Function\n",
        "trap_mf = trapezoidal_mf(x, 2, 4, 6, 8)\n",
        "plt.plot(x, trap_mf, label='Trapezoidal MF')\n",
        "\n",
        "# Plot Bell-shaped Membership Function\n",
        "bell_mf = bell_shaped_mf(x, 2, 4, 5)\n",
        "plt.plot(x, bell_mf, label='Bell-shaped MF')\n",
        "\n",
        "# Show plot\n",
        "plt.title('Membership Functions')\n",
        "plt.xlabel('x')\n",
        "plt.ylabel('Membership Degree')\n",
        "plt.legend()\n",
        "plt.grid(True)\n",
        "plt.show()\n"
      ],
      "metadata": {
        "colab": {
          "base_uri": "https://localhost:8080/",
          "height": 472
        },
        "id": "0d3tsfMVpssW",
        "outputId": "68cf46de-15a4-4d27-f3e9-49f444f83c22"
      },
      "execution_count": null,
      "outputs": [
        {
          "output_type": "display_data",
          "data": {
            "text/plain": [
              "<Figure size 640x480 with 1 Axes>"
            ],
            "image/png": "[encoded data removed]"
          },
          "metadata": {}
        }
      ]
    },
    {
      "cell_type": "markdown",
      "source": [
        "**(10) Implementation of Mamdani-Type Fuzzy Inference System for Heater Power Control.**\n",
        "\n",
        "Name- Sanskar Vaibhav\n",
        "Adm.No.- 22SCSE1180236"
      ],
      "metadata": {
        "id": "MjDVHXZEd-ey"
      }
    },
    {
      "cell_type": "code",
      "source": [
        "import numpy as np\n",
        "import skfuzzy as fuzz\n",
        "from skfuzzy import control as ctrl\n",
        "\n",
        "# Define linguistic variables\n",
        "temperature = ctrl.Antecedent(np.arange(0, 101, 1), 'temperature')\n",
        "heater_power = ctrl.Consequent(np.arange(0, 101, 1), 'heater_power')\n",
        "\n",
        "# Define membership functions\n",
        "temperature['cold'] = fuzz.trimf(temperature.universe, [0, 0, 50])\n",
        "temperature['warm'] = fuzz.trimf(temperature.universe, [0, 50, 100])\n",
        "temperature['hot'] = fuzz.trimf(temperature.universe, [50, 100, 100])\n",
        "\n",
        "heater_power['low'] = fuzz.trimf(heater_power.universe, [0, 0, 50])\n",
        "heater_power['medium'] = fuzz.trimf(heater_power.universe, [0, 50, 100])\n",
        "heater_power['high'] = fuzz.trimf(heater_power.universe, [50, 100, 100])\n",
        "\n",
        "# Define fuzzy rules\n",
        "rule1 = ctrl.Rule(temperature['cold'], heater_power['high'])\n",
        "rule2 = ctrl.Rule(temperature['warm'], heater_power['medium'])\n",
        "rule3 = ctrl.Rule(temperature['hot'], heater_power['low'])\n",
        "\n",
        "# Create fuzzy inference system\n",
        "temperature_ctrl = ctrl.ControlSystem([rule1, rule2, rule3])\n",
        "heater_power_ctrl = ctrl.ControlSystemSimulation(temperature_ctrl)\n",
        "\n",
        "# Input value\n",
        "heater_power_ctrl.input['temperature'] = 75\n",
        "\n",
        "# Compute output\n",
        "heater_power_ctrl.compute()\n",
        "\n",
        "# Output\n",
        "print(\"Heater Power:\", heater_power_ctrl.output['heater_power'])"
      ],
      "metadata": {
        "colab": {
          "base_uri": "https://localhost:8080/"
        },
        "id": "srmrCW3qd62-",
        "outputId": "7420c33f-f183-4c0b-bd56-4cdd62bad6dc"
      },
      "execution_count": null,
      "outputs": [
        {
          "output_type": "stream",
          "name": "stdout",
          "text": [
            "Heater Power: 44.04761904761905\n"
          ]
        }
      ]
    },
    {
      "cell_type": "markdown",
      "source": [
        "**(11) Implementation of Neuro-Fuzzy Hybrid System for Predicting Fan Speed Based on Temperature and Humidity**\n",
        "\n",
        "Name- Sanskar Vaibhav\n",
        "Adm.No.- 22SCSE1180236"
      ],
      "metadata": {
        "id": "VRVMbhEmL6wD"
      }
    },
    {
      "cell_type": "code",
      "source": [
        "pip install scikit-fuzzy"
      ],
      "metadata": {
        "colab": {
          "base_uri": "https://localhost:8080/"
        },
        "id": "wcLJb2JdM00d",
        "outputId": "c2d1e0e8-c34c-484a-ae28-4ef2c2ff1497"
      },
      "execution_count": null,
      "outputs": [
        {
          "output_type": "stream",
          "name": "stdout",
          "text": [
            "Collecting scikit-fuzzy\n",
            "  Downloading scikit_fuzzy-0.5.0-py2.py3-none-any.whl.metadata (2.6 kB)\n",
            "Downloading scikit_fuzzy-0.5.0-py2.py3-none-any.whl (920 kB)\n",
            "\u001b[?25l   \u001b[90m━━━━━━━━━━━━━━━━━━━━━━━━━━━━━━━━━━━━━━━━\u001b[0m \u001b[32m0.0/920.8 kB\u001b[0m \u001b[31m?\u001b[0m eta \u001b[36m-:--:--\u001b[0m\r\u001b[2K   \u001b[91m━━━━━━━━━━━━━━━━━━━━━━\u001b[0m\u001b[90m╺\u001b[0m\u001b[90m━━━━━━━━━━━━━━━━━\u001b[0m \u001b[32m512.0/920.8 kB\u001b[0m \u001b[31m14.7 MB/s\u001b[0m eta \u001b[36m0:00:01\u001b[0m\r\u001b[2K   \u001b[91m━━━━━━━━━━━━━━━━━━━━━━━━━━━━━━━━━━━━━━━\u001b[0m\u001b[91m╸\u001b[0m \u001b[32m911.4/920.8 kB\u001b[0m \u001b[31m20.9 MB/s\u001b[0m eta \u001b[36m0:00:01\u001b[0m\r\u001b[2K   \u001b[90m━━━━━━━━━━━━━━━━━━━━━━━━━━━━━━━━━━━━━━━━\u001b[0m \u001b[32m920.8/920.8 kB\u001b[0m \u001b[31m11.5 MB/s\u001b[0m eta \u001b[36m0:00:00\u001b[0m\n",
            "\u001b[?25hInstalling collected packages: scikit-fuzzy\n",
            "Successfully installed scikit-fuzzy-0.5.0\n"
          ]
        }
      ]
    },
    {
      "cell_type": "code",
      "source": [
        "import numpy as np\n",
        "import skfuzzy as fuzz\n",
        "from skfuzzy import control as ctrl\n",
        "from sklearn.model_selection import train_test_split\n",
        "import matplotlib.pyplot as plt\n",
        "from keras.models import Sequential\n",
        "from keras.layers import Dense\n",
        "\n",
        "# Step 1: Define Fuzzy Variables\n",
        "temperature = ctrl.Antecedent(np.arange(0, 41, 1), 'temperature')\n",
        "humidity = ctrl.Antecedent(np.arange(0, 101, 1), 'humidity')\n",
        "fan_speed = ctrl.Consequent(np.arange(0, 31, 1), 'fan_speed')\n",
        "\n",
        "# Define membership functions for temperature\n",
        "temperature['low'] = fuzz.trimf(temperature.universe, [0, 0, 20])\n",
        "temperature['medium'] = fuzz.trimf(temperature.universe, [10, 20, 30])\n",
        "temperature['high'] = fuzz.trimf(temperature.universe, [20, 40, 40])\n",
        "\n",
        "# Define membership functions for humidity\n",
        "humidity['low'] = fuzz.trimf(humidity.universe, [0, 0, 50])\n",
        "humidity['medium'] = fuzz.trimf(humidity.universe, [30, 50, 70])\n",
        "humidity['high'] = fuzz.trimf(humidity.universe, [50, 100, 100])\n",
        "\n",
        "# Define membership functions for fan speed\n",
        "fan_speed['low'] = fuzz.trimf(fan_speed.universe, [0, 0, 15])\n",
        "fan_speed['medium'] = fuzz.trimf(fan_speed.universe, [10, 15, 20])\n",
        "fan_speed['high'] = fuzz.trimf(fan_speed.universe, [15, 30, 30])\n",
        "\n",
        "# Step 2: Define fuzzy rules\n",
        "rule1 = ctrl.Rule(temperature['high'] & humidity['low'], fan_speed['high'])\n",
        "rule2 = ctrl.Rule(temperature['medium'] & humidity['medium'], fan_speed['medium'])\n",
        "rule3 = ctrl.Rule(temperature['low'] | humidity['high'], fan_speed['low'])\n",
        "\n",
        "# Control System\n",
        "fan_control = ctrl.ControlSystem([rule1, rule2, rule3])\n",
        "fan_simulation = ctrl.ControlSystemSimulation(fan_control)\n",
        "\n",
        "# Step 3: Generate Training Data (Synthetic)\n",
        "data_size = 100\n",
        "temperature_data = np.random.randint(0, 41, data_size)\n",
        "humidity_data = np.random.randint(0, 101, data_size)\n",
        "fan_speeds = []\n",
        "\n",
        "# Simulate fuzzy system for generating training data\n",
        "for temp, hum in zip(temperature_data, humidity_data):\n",
        "    fan_simulation.input['temperature'] = temp\n",
        "    fan_simulation.input['humidity'] = hum\n",
        "    try:\n",
        "        fan_simulation.compute()\n",
        "        fan_speeds.append(fan_simulation.output['fan_speed'])\n",
        "    except KeyError:\n",
        "        # In case the fuzzy system does not compute a result, handle it here\n",
        "        fan_speeds.append(0)  # Set a default value or handle appropriately\n",
        "\n",
        "# Convert to arrays\n",
        "fan_speeds = np.array(fan_speeds)\n",
        "\n",
        "# Split data into training and testing sets\n",
        "X = np.vstack((temperature_data, humidity_data)).T\n",
        "y = fan_speeds\n",
        "X_train, X_test, y_train, y_test = train_test_split(X, y, test_size=0.2, random_state=42)\n",
        "\n",
        "# Step 4: Train a Simple Neural Network\n",
        "model = Sequential()\n",
        "model.add(Dense(10, input_dim=2, activation='relu'))  # Input layer for temperature and humidity\n",
        "model.add(Dense(10, activation='relu'))               # Hidden layer\n",
        "model.add(Dense(1, activation='linear'))              # Output layer for fan speed\n",
        "\n",
        "model.compile(optimizer='adam', loss='mse')\n",
        "\n",
        "# Train the model\n",
        "model.fit(X_train, y_train, epochs=100, batch_size=10, verbose=1)\n",
        "\n",
        "# Evaluate the model\n",
        "loss = model.evaluate(X_test, y_test)\n",
        "print(f'Test Loss: {loss}')\n",
        "\n",
        "# Step 5: Plot the results\n",
        "predicted_fan_speeds = model.predict(X_test)\n",
        "\n",
        "plt.scatter(y_test, predicted_fan_speeds)\n",
        "plt.xlabel('True Fan Speed')\n",
        "plt.ylabel('Predicted Fan Speed')\n",
        "plt.title('True vs Predicted Fan Speeds')\n",
        "plt.show()\n"
      ],
      "metadata": {
        "colab": {
          "base_uri": "https://localhost:8080/",
          "height": 1000
        },
        "id": "jXtPCN8rNwSo",
        "outputId": "6645329a-5ef7-4715-f829-53a29634a22b"
      },
      "execution_count": null,
      "outputs": [
        {
          "output_type": "stream",
          "name": "stderr",
          "text": [
            "/usr/local/lib/python3.10/dist-packages/keras/src/layers/core/dense.py:87: UserWarning: Do not pass an `input_shape`/`input_dim` argument to a layer. When using Sequential models, prefer using an `Input(shape)` object as the first layer in the model instead.\n",
            "  super().__init__(activity_regularizer=activity_regularizer, **kwargs)\n"
          ]
        },
        {
          "output_type": "stream",
          "name": "stdout",
          "text": [
            "Epoch 1/100\n",
            "\u001b[1m8/8\u001b[0m \u001b[32m━━━━━━━━━━━━━━━━━━━━\u001b[0m\u001b[37m\u001b[0m \u001b[1m1s\u001b[0m 3ms/step - loss: 582.5528\n",
            "Epoch 2/100\n",
            "\u001b[1m8/8\u001b[0m \u001b[32m━━━━━━━━━━━━━━━━━━━━\u001b[0m\u001b[37m\u001b[0m \u001b[1m0s\u001b[0m 2ms/step - loss: 502.0456 \n",
            "Epoch 3/100\n",
            "\u001b[1m8/8\u001b[0m \u001b[32m━━━━━━━━━━━━━━━━━━━━\u001b[0m\u001b[37m\u001b[0m \u001b[1m0s\u001b[0m 2ms/step - loss: 410.7259 \n",
            "Epoch 4/100\n",
            "\u001b[1m8/8\u001b[0m \u001b[32m━━━━━━━━━━━━━━━━━━━━\u001b[0m\u001b[37m\u001b[0m \u001b[1m0s\u001b[0m 2ms/step - loss: 332.9088 \n",
            "Epoch 5/100\n",
            "\u001b[1m8/8\u001b[0m \u001b[32m━━━━━━━━━━━━━━━━━━━━\u001b[0m\u001b[37m\u001b[0m \u001b[1m0s\u001b[0m 2ms/step - loss: 271.1404 \n",
            "Epoch 6/100\n",
            "\u001b[1m8/8\u001b[0m \u001b[32m━━━━━━━━━━━━━━━━━━━━\u001b[0m\u001b[37m\u001b[0m \u001b[1m0s\u001b[0m 2ms/step - loss: 232.5441 \n",
            "Epoch 7/100\n",
            "\u001b[1m8/8\u001b[0m \u001b[32m━━━━━━━━━━━━━━━━━━━━\u001b[0m\u001b[37m\u001b[0m \u001b[1m0s\u001b[0m 4ms/step - loss: 195.8061 \n",
            "Epoch 8/100\n",
            "\u001b[1m8/8\u001b[0m \u001b[32m━━━━━━━━━━━━━━━━━━━━\u001b[0m\u001b[37m\u001b[0m \u001b[1m0s\u001b[0m 2ms/step - loss: 181.6283  \n",
            "Epoch 9/100\n",
            "\u001b[1m8/8\u001b[0m \u001b[32m━━━━━━━━━━━━━━━━━━━━\u001b[0m\u001b[37m\u001b[0m \u001b[1m0s\u001b[0m 2ms/step - loss: 148.4610 \n",
            "Epoch 10/100\n",
            "\u001b[1m8/8\u001b[0m \u001b[32m━━━━━━━━━━━━━━━━━━━━\u001b[0m\u001b[37m\u001b[0m \u001b[1m0s\u001b[0m 2ms/step - loss: 150.1313 \n",
            "Epoch 11/100\n",
            "\u001b[1m8/8\u001b[0m \u001b[32m━━━━━━━━━━━━━━━━━━━━\u001b[0m\u001b[37m\u001b[0m \u001b[1m0s\u001b[0m 2ms/step - loss: 116.1271\n",
            "Epoch 12/100\n",
            "\u001b[1m8/8\u001b[0m \u001b[32m━━━━━━━━━━━━━━━━━━━━\u001b[0m\u001b[37m\u001b[0m \u001b[1m0s\u001b[0m 2ms/step - loss: 118.0188 \n",
            "Epoch 13/100\n",
            "\u001b[1m8/8\u001b[0m \u001b[32m━━━━━━━━━━━━━━━━━━━━\u001b[0m\u001b[37m\u001b[0m \u001b[1m0s\u001b[0m 2ms/step - loss: 132.2001 \n",
            "Epoch 14/100\n",
            "\u001b[1m8/8\u001b[0m \u001b[32m━━━━━━━━━━━━━━━━━━━━\u001b[0m\u001b[37m\u001b[0m \u001b[1m0s\u001b[0m 2ms/step - loss: 118.6735 \n",
            "Epoch 15/100\n",
            "\u001b[1m8/8\u001b[0m \u001b[32m━━━━━━━━━━━━━━━━━━━━\u001b[0m\u001b[37m\u001b[0m \u001b[1m0s\u001b[0m 2ms/step - loss: 107.0401 \n",
            "Epoch 16/100\n",
            "\u001b[1m8/8\u001b[0m \u001b[32m━━━━━━━━━━━━━━━━━━━━\u001b[0m\u001b[37m\u001b[0m \u001b[1m0s\u001b[0m 2ms/step - loss: 100.9864\n",
            "Epoch 17/100\n",
            "\u001b[1m8/8\u001b[0m \u001b[32m━━━━━━━━━━━━━━━━━━━━\u001b[0m\u001b[37m\u001b[0m \u001b[1m0s\u001b[0m 2ms/step - loss: 73.4397 \n",
            "Epoch 18/100\n",
            "\u001b[1m8/8\u001b[0m \u001b[32m━━━━━━━━━━━━━━━━━━━━\u001b[0m\u001b[37m\u001b[0m \u001b[1m0s\u001b[0m 2ms/step - loss: 80.3399 \n",
            "Epoch 19/100\n",
            "\u001b[1m8/8\u001b[0m \u001b[32m━━━━━━━━━━━━━━━━━━━━\u001b[0m\u001b[37m\u001b[0m \u001b[1m0s\u001b[0m 2ms/step - loss: 106.4636 \n",
            "Epoch 20/100\n",
            "\u001b[1m8/8\u001b[0m \u001b[32m━━━━━━━━━━━━━━━━━━━━\u001b[0m\u001b[37m\u001b[0m \u001b[1m0s\u001b[0m 2ms/step - loss: 95.9691  \n",
            "Epoch 21/100\n",
            "\u001b[1m8/8\u001b[0m \u001b[32m━━━━━━━━━━━━━━━━━━━━\u001b[0m\u001b[37m\u001b[0m \u001b[1m0s\u001b[0m 2ms/step - loss: 92.7949  \n",
            "Epoch 22/100\n",
            "\u001b[1m8/8\u001b[0m \u001b[32m━━━━━━━━━━━━━━━━━━━━\u001b[0m\u001b[37m\u001b[0m \u001b[1m0s\u001b[0m 2ms/step - loss: 96.7142  \n",
            "Epoch 23/100\n",
            "\u001b[1m8/8\u001b[0m \u001b[32m━━━━━━━━━━━━━━━━━━━━\u001b[0m\u001b[37m\u001b[0m \u001b[1m0s\u001b[0m 2ms/step - loss: 92.3089 \n",
            "Epoch 24/100\n",
            "\u001b[1m8/8\u001b[0m \u001b[32m━━━━━━━━━━━━━━━━━━━━\u001b[0m\u001b[37m\u001b[0m \u001b[1m0s\u001b[0m 3ms/step - loss: 71.6051 \n",
            "Epoch 25/100\n",
            "\u001b[1m8/8\u001b[0m \u001b[32m━━━━━━━━━━━━━━━━━━━━\u001b[0m\u001b[37m\u001b[0m \u001b[1m0s\u001b[0m 3ms/step - loss: 61.8986 \n",
            "Epoch 26/100\n",
            "\u001b[1m8/8\u001b[0m \u001b[32m━━━━━━━━━━━━━━━━━━━━\u001b[0m\u001b[37m\u001b[0m \u001b[1m0s\u001b[0m 3ms/step - loss: 83.0991 \n",
            "Epoch 27/100\n",
            "\u001b[1m8/8\u001b[0m \u001b[32m━━━━━━━━━━━━━━━━━━━━\u001b[0m\u001b[37m\u001b[0m \u001b[1m0s\u001b[0m 2ms/step - loss: 85.9781  \n",
            "Epoch 28/100\n",
            "\u001b[1m8/8\u001b[0m \u001b[32m━━━━━━━━━━━━━━━━━━━━\u001b[0m\u001b[37m\u001b[0m \u001b[1m0s\u001b[0m 2ms/step - loss: 68.4165 \n",
            "Epoch 29/100\n",
            "\u001b[1m8/8\u001b[0m \u001b[32m━━━━━━━━━━━━━━━━━━━━\u001b[0m\u001b[37m\u001b[0m \u001b[1m0s\u001b[0m 2ms/step - loss: 80.0752 \n",
            "Epoch 30/100\n",
            "\u001b[1m8/8\u001b[0m \u001b[32m━━━━━━━━━━━━━━━━━━━━\u001b[0m\u001b[37m\u001b[0m \u001b[1m0s\u001b[0m 2ms/step - loss: 66.7577 \n",
            "Epoch 31/100\n",
            "\u001b[1m8/8\u001b[0m \u001b[32m━━━━━━━━━━━━━━━━━━━━\u001b[0m\u001b[37m\u001b[0m \u001b[1m0s\u001b[0m 2ms/step - loss: 69.8267 \n",
            "Epoch 32/100\n",
            "\u001b[1m8/8\u001b[0m \u001b[32m━━━━━━━━━━━━━━━━━━━━\u001b[0m\u001b[37m\u001b[0m \u001b[1m0s\u001b[0m 3ms/step - loss: 68.6109  \n",
            "Epoch 33/100\n",
            "\u001b[1m8/8\u001b[0m \u001b[32m━━━━━━━━━━━━━━━━━━━━\u001b[0m\u001b[37m\u001b[0m \u001b[1m0s\u001b[0m 2ms/step - loss: 74.4344 \n",
            "Epoch 34/100\n",
            "\u001b[1m8/8\u001b[0m \u001b[32m━━━━━━━━━━━━━━━━━━━━\u001b[0m\u001b[37m\u001b[0m \u001b[1m0s\u001b[0m 2ms/step - loss: 67.0139 \n",
            "Epoch 35/100\n",
            "\u001b[1m8/8\u001b[0m \u001b[32m━━━━━━━━━━━━━━━━━━━━\u001b[0m\u001b[37m\u001b[0m \u001b[1m0s\u001b[0m 2ms/step - loss: 61.4488 \n",
            "Epoch 36/100\n",
            "\u001b[1m8/8\u001b[0m \u001b[32m━━━━━━━━━━━━━━━━━━━━\u001b[0m\u001b[37m\u001b[0m \u001b[1m0s\u001b[0m 2ms/step - loss: 57.8440 \n",
            "Epoch 37/100\n",
            "\u001b[1m8/8\u001b[0m \u001b[32m━━━━━━━━━━━━━━━━━━━━\u001b[0m\u001b[37m\u001b[0m \u001b[1m0s\u001b[0m 2ms/step - loss: 66.4753 \n",
            "Epoch 38/100\n",
            "\u001b[1m8/8\u001b[0m \u001b[32m━━━━━━━━━━━━━━━━━━━━\u001b[0m\u001b[37m\u001b[0m \u001b[1m0s\u001b[0m 2ms/step - loss: 59.1449 \n",
            "Epoch 39/100\n",
            "\u001b[1m8/8\u001b[0m \u001b[32m━━━━━━━━━━━━━━━━━━━━\u001b[0m\u001b[37m\u001b[0m \u001b[1m0s\u001b[0m 3ms/step - loss: 58.8026 \n",
            "Epoch 40/100\n",
            "\u001b[1m8/8\u001b[0m \u001b[32m━━━━━━━━━━━━━━━━━━━━\u001b[0m\u001b[37m\u001b[0m \u001b[1m0s\u001b[0m 3ms/step - loss: 55.8722 \n",
            "Epoch 41/100\n",
            "\u001b[1m8/8\u001b[0m \u001b[32m━━━━━━━━━━━━━━━━━━━━\u001b[0m\u001b[37m\u001b[0m \u001b[1m0s\u001b[0m 4ms/step - loss: 51.5346 \n",
            "Epoch 42/100\n",
            "\u001b[1m8/8\u001b[0m \u001b[32m━━━━━━━━━━━━━━━━━━━━\u001b[0m\u001b[37m\u001b[0m \u001b[1m0s\u001b[0m 2ms/step - loss: 41.9201  \n",
            "Epoch 43/100\n",
            "\u001b[1m8/8\u001b[0m \u001b[32m━━━━━━━━━━━━━━━━━━━━\u001b[0m\u001b[37m\u001b[0m \u001b[1m0s\u001b[0m 2ms/step - loss: 48.7467 \n",
            "Epoch 44/100\n",
            "\u001b[1m8/8\u001b[0m \u001b[32m━━━━━━━━━━━━━━━━━━━━\u001b[0m\u001b[37m\u001b[0m \u001b[1m0s\u001b[0m 3ms/step - loss: 44.0847 \n",
            "Epoch 45/100\n",
            "\u001b[1m8/8\u001b[0m \u001b[32m━━━━━━━━━━━━━━━━━━━━\u001b[0m\u001b[37m\u001b[0m \u001b[1m0s\u001b[0m 2ms/step - loss: 48.0849 \n",
            "Epoch 46/100\n",
            "\u001b[1m8/8\u001b[0m \u001b[32m━━━━━━━━━━━━━━━━━━━━\u001b[0m\u001b[37m\u001b[0m \u001b[1m0s\u001b[0m 2ms/step - loss: 40.9671 \n",
            "Epoch 47/100\n",
            "\u001b[1m8/8\u001b[0m \u001b[32m━━━━━━━━━━━━━━━━━━━━\u001b[0m\u001b[37m\u001b[0m \u001b[1m0s\u001b[0m 2ms/step - loss: 39.5294 \n",
            "Epoch 48/100\n",
            "\u001b[1m8/8\u001b[0m \u001b[32m━━━━━━━━━━━━━━━━━━━━\u001b[0m\u001b[37m\u001b[0m \u001b[1m0s\u001b[0m 2ms/step - loss: 41.0681 \n",
            "Epoch 49/100\n",
            "\u001b[1m8/8\u001b[0m \u001b[32m━━━━━━━━━━━━━━━━━━━━\u001b[0m\u001b[37m\u001b[0m \u001b[1m0s\u001b[0m 2ms/step - loss: 36.8672 \n",
            "Epoch 50/100\n",
            "\u001b[1m8/8\u001b[0m \u001b[32m━━━━━━━━━━━━━━━━━━━━\u001b[0m\u001b[37m\u001b[0m \u001b[1m0s\u001b[0m 2ms/step - loss: 47.0243 \n",
            "Epoch 51/100\n",
            "\u001b[1m8/8\u001b[0m \u001b[32m━━━━━━━━━━━━━━━━━━━━\u001b[0m\u001b[37m\u001b[0m \u001b[1m0s\u001b[0m 2ms/step - loss: 34.2678 \n",
            "Epoch 52/100\n",
            "\u001b[1m8/8\u001b[0m \u001b[32m━━━━━━━━━━━━━━━━━━━━\u001b[0m\u001b[37m\u001b[0m \u001b[1m0s\u001b[0m 2ms/step - loss: 30.7604 \n",
            "Epoch 53/100\n",
            "\u001b[1m8/8\u001b[0m \u001b[32m━━━━━━━━━━━━━━━━━━━━\u001b[0m\u001b[37m\u001b[0m \u001b[1m0s\u001b[0m 2ms/step - loss: 37.8661 \n",
            "Epoch 54/100\n",
            "\u001b[1m8/8\u001b[0m \u001b[32m━━━━━━━━━━━━━━━━━━━━\u001b[0m\u001b[37m\u001b[0m \u001b[1m0s\u001b[0m 2ms/step - loss: 33.2936 \n",
            "Epoch 55/100\n",
            "\u001b[1m8/8\u001b[0m \u001b[32m━━━━━━━━━━━━━━━━━━━━\u001b[0m\u001b[37m\u001b[0m \u001b[1m0s\u001b[0m 3ms/step - loss: 29.1377 \n",
            "Epoch 56/100\n",
            "\u001b[1m8/8\u001b[0m \u001b[32m━━━━━━━━━━━━━━━━━━━━\u001b[0m\u001b[37m\u001b[0m \u001b[1m0s\u001b[0m 3ms/step - loss: 27.8640 \n",
            "Epoch 57/100\n",
            "\u001b[1m8/8\u001b[0m \u001b[32m━━━━━━━━━━━━━━━━━━━━\u001b[0m\u001b[37m\u001b[0m \u001b[1m0s\u001b[0m 4ms/step - loss: 29.7094 \n",
            "Epoch 58/100\n",
            "\u001b[1m8/8\u001b[0m \u001b[32m━━━━━━━━━━━━━━━━━━━━\u001b[0m\u001b[37m\u001b[0m \u001b[1m0s\u001b[0m 2ms/step - loss: 33.6371  \n",
            "Epoch 59/100\n",
            "\u001b[1m8/8\u001b[0m \u001b[32m━━━━━━━━━━━━━━━━━━━━\u001b[0m\u001b[37m\u001b[0m \u001b[1m0s\u001b[0m 2ms/step - loss: 27.9434 \n",
            "Epoch 60/100\n",
            "\u001b[1m8/8\u001b[0m \u001b[32m━━━━━━━━━━━━━━━━━━━━\u001b[0m\u001b[37m\u001b[0m \u001b[1m0s\u001b[0m 2ms/step - loss: 28.6518 \n",
            "Epoch 61/100\n",
            "\u001b[1m8/8\u001b[0m \u001b[32m━━━━━━━━━━━━━━━━━━━━\u001b[0m\u001b[37m\u001b[0m \u001b[1m0s\u001b[0m 3ms/step - loss: 24.6536 \n",
            "Epoch 62/100\n",
            "\u001b[1m8/8\u001b[0m \u001b[32m━━━━━━━━━━━━━━━━━━━━\u001b[0m\u001b[37m\u001b[0m \u001b[1m0s\u001b[0m 2ms/step - loss: 25.9341 \n",
            "Epoch 63/100\n",
            "\u001b[1m8/8\u001b[0m \u001b[32m━━━━━━━━━━━━━━━━━━━━\u001b[0m\u001b[37m\u001b[0m \u001b[1m0s\u001b[0m 2ms/step - loss: 22.6812 \n",
            "Epoch 64/100\n",
            "\u001b[1m8/8\u001b[0m \u001b[32m━━━━━━━━━━━━━━━━━━━━\u001b[0m\u001b[37m\u001b[0m \u001b[1m0s\u001b[0m 2ms/step - loss: 23.1068 \n",
            "Epoch 65/100\n",
            "\u001b[1m8/8\u001b[0m \u001b[32m━━━━━━━━━━━━━━━━━━━━\u001b[0m\u001b[37m\u001b[0m \u001b[1m0s\u001b[0m 2ms/step - loss: 18.4720 \n",
            "Epoch 66/100\n",
            "\u001b[1m8/8\u001b[0m \u001b[32m━━━━━━━━━━━━━━━━━━━━\u001b[0m\u001b[37m\u001b[0m \u001b[1m0s\u001b[0m 2ms/step - loss: 23.2537 \n",
            "Epoch 67/100\n",
            "\u001b[1m8/8\u001b[0m \u001b[32m━━━━━━━━━━━━━━━━━━━━\u001b[0m\u001b[37m\u001b[0m \u001b[1m0s\u001b[0m 2ms/step - loss: 23.0349 \n",
            "Epoch 68/100\n",
            "\u001b[1m8/8\u001b[0m \u001b[32m━━━━━━━━━━━━━━━━━━━━\u001b[0m\u001b[37m\u001b[0m \u001b[1m0s\u001b[0m 2ms/step - loss: 25.2363 \n",
            "Epoch 69/100\n",
            "\u001b[1m8/8\u001b[0m \u001b[32m━━━━━━━━━━━━━━━━━━━━\u001b[0m\u001b[37m\u001b[0m \u001b[1m0s\u001b[0m 2ms/step - loss: 27.0799 \n",
            "Epoch 70/100\n",
            "\u001b[1m8/8\u001b[0m \u001b[32m━━━━━━━━━━━━━━━━━━━━\u001b[0m\u001b[37m\u001b[0m \u001b[1m0s\u001b[0m 2ms/step - loss: 19.7017 \n",
            "Epoch 71/100\n",
            "\u001b[1m8/8\u001b[0m \u001b[32m━━━━━━━━━━━━━━━━━━━━\u001b[0m\u001b[37m\u001b[0m \u001b[1m0s\u001b[0m 3ms/step - loss: 19.6646 \n",
            "Epoch 72/100\n",
            "\u001b[1m8/8\u001b[0m \u001b[32m━━━━━━━━━━━━━━━━━━━━\u001b[0m\u001b[37m\u001b[0m \u001b[1m0s\u001b[0m 3ms/step - loss: 21.2771 \n",
            "Epoch 73/100\n",
            "\u001b[1m8/8\u001b[0m \u001b[32m━━━━━━━━━━━━━━━━━━━━\u001b[0m\u001b[37m\u001b[0m \u001b[1m0s\u001b[0m 3ms/step - loss: 18.1576 \n",
            "Epoch 74/100\n",
            "\u001b[1m8/8\u001b[0m \u001b[32m━━━━━━━━━━━━━━━━━━━━\u001b[0m\u001b[37m\u001b[0m \u001b[1m0s\u001b[0m 3ms/step - loss: 17.6798 \n",
            "Epoch 75/100\n",
            "\u001b[1m8/8\u001b[0m \u001b[32m━━━━━━━━━━━━━━━━━━━━\u001b[0m\u001b[37m\u001b[0m \u001b[1m0s\u001b[0m 3ms/step - loss: 18.2657 \n",
            "Epoch 76/100\n",
            "\u001b[1m8/8\u001b[0m \u001b[32m━━━━━━━━━━━━━━━━━━━━\u001b[0m\u001b[37m\u001b[0m \u001b[1m0s\u001b[0m 2ms/step - loss: 15.5485\n",
            "Epoch 77/100\n",
            "\u001b[1m8/8\u001b[0m \u001b[32m━━━━━━━━━━━━━━━━━━━━\u001b[0m\u001b[37m\u001b[0m \u001b[1m0s\u001b[0m 2ms/step - loss: 18.6561 \n",
            "Epoch 78/100\n",
            "\u001b[1m8/8\u001b[0m \u001b[32m━━━━━━━━━━━━━━━━━━━━\u001b[0m\u001b[37m\u001b[0m \u001b[1m0s\u001b[0m 2ms/step - loss: 20.4363 \n",
            "Epoch 79/100\n",
            "\u001b[1m8/8\u001b[0m \u001b[32m━━━━━━━━━━━━━━━━━━━━\u001b[0m\u001b[37m\u001b[0m \u001b[1m0s\u001b[0m 2ms/step - loss: 13.6767\n",
            "Epoch 80/100\n",
            "\u001b[1m8/8\u001b[0m \u001b[32m━━━━━━━━━━━━━━━━━━━━\u001b[0m\u001b[37m\u001b[0m \u001b[1m0s\u001b[0m 2ms/step - loss: 19.2713 \n",
            "Epoch 81/100\n",
            "\u001b[1m8/8\u001b[0m \u001b[32m━━━━━━━━━━━━━━━━━━━━\u001b[0m\u001b[37m\u001b[0m \u001b[1m0s\u001b[0m 2ms/step - loss: 17.0198 \n",
            "Epoch 82/100\n",
            "\u001b[1m8/8\u001b[0m \u001b[32m━━━━━━━━━━━━━━━━━━━━\u001b[0m\u001b[37m\u001b[0m \u001b[1m0s\u001b[0m 2ms/step - loss: 18.3015 \n",
            "Epoch 83/100\n",
            "\u001b[1m8/8\u001b[0m \u001b[32m━━━━━━━━━━━━━━━━━━━━\u001b[0m\u001b[37m\u001b[0m \u001b[1m0s\u001b[0m 2ms/step - loss: 18.1560 \n",
            "Epoch 84/100\n",
            "\u001b[1m8/8\u001b[0m \u001b[32m━━━━━━━━━━━━━━━━━━━━\u001b[0m\u001b[37m\u001b[0m \u001b[1m0s\u001b[0m 2ms/step - loss: 20.0081 \n",
            "Epoch 85/100\n",
            "\u001b[1m8/8\u001b[0m \u001b[32m━━━━━━━━━━━━━━━━━━━━\u001b[0m\u001b[37m\u001b[0m \u001b[1m0s\u001b[0m 2ms/step - loss: 18.7232 \n",
            "Epoch 86/100\n",
            "\u001b[1m8/8\u001b[0m \u001b[32m━━━━━━━━━━━━━━━━━━━━\u001b[0m\u001b[37m\u001b[0m \u001b[1m0s\u001b[0m 2ms/step - loss: 14.9204\n",
            "Epoch 87/100\n",
            "\u001b[1m8/8\u001b[0m \u001b[32m━━━━━━━━━━━━━━━━━━━━\u001b[0m\u001b[37m\u001b[0m \u001b[1m0s\u001b[0m 3ms/step - loss: 23.2102 \n",
            "Epoch 88/100\n",
            "\u001b[1m8/8\u001b[0m \u001b[32m━━━━━━━━━━━━━━━━━━━━\u001b[0m\u001b[37m\u001b[0m \u001b[1m0s\u001b[0m 3ms/step - loss: 21.0453 \n",
            "Epoch 89/100\n",
            "\u001b[1m8/8\u001b[0m \u001b[32m━━━━━━━━━━━━━━━━━━━━\u001b[0m\u001b[37m\u001b[0m \u001b[1m0s\u001b[0m 5ms/step - loss: 16.8869 \n",
            "Epoch 90/100\n",
            "\u001b[1m8/8\u001b[0m \u001b[32m━━━━━━━━━━━━━━━━━━━━\u001b[0m\u001b[37m\u001b[0m \u001b[1m0s\u001b[0m 3ms/step - loss: 18.9671 \n",
            "Epoch 91/100\n",
            "\u001b[1m8/8\u001b[0m \u001b[32m━━━━━━━━━━━━━━━━━━━━\u001b[0m\u001b[37m\u001b[0m \u001b[1m0s\u001b[0m 3ms/step - loss: 13.6559\n",
            "Epoch 92/100\n",
            "\u001b[1m8/8\u001b[0m \u001b[32m━━━━━━━━━━━━━━━━━━━━\u001b[0m\u001b[37m\u001b[0m \u001b[1m0s\u001b[0m 3ms/step - loss: 18.3502 \n",
            "Epoch 93/100\n",
            "\u001b[1m8/8\u001b[0m \u001b[32m━━━━━━━━━━━━━━━━━━━━\u001b[0m\u001b[37m\u001b[0m \u001b[1m0s\u001b[0m 3ms/step - loss: 18.5562 \n",
            "Epoch 94/100\n",
            "\u001b[1m8/8\u001b[0m \u001b[32m━━━━━━━━━━━━━━━━━━━━\u001b[0m\u001b[37m\u001b[0m \u001b[1m0s\u001b[0m 3ms/step - loss: 22.2127 \n",
            "Epoch 95/100\n",
            "\u001b[1m8/8\u001b[0m \u001b[32m━━━━━━━━━━━━━━━━━━━━\u001b[0m\u001b[37m\u001b[0m \u001b[1m0s\u001b[0m 3ms/step - loss: 23.9420 \n",
            "Epoch 96/100\n",
            "\u001b[1m8/8\u001b[0m \u001b[32m━━━━━━━━━━━━━━━━━━━━\u001b[0m\u001b[37m\u001b[0m \u001b[1m0s\u001b[0m 3ms/step - loss: 18.5765 \n",
            "Epoch 97/100\n",
            "\u001b[1m8/8\u001b[0m \u001b[32m━━━━━━━━━━━━━━━━━━━━\u001b[0m\u001b[37m\u001b[0m \u001b[1m0s\u001b[0m 3ms/step - loss: 18.9442 \n",
            "Epoch 98/100\n",
            "\u001b[1m8/8\u001b[0m \u001b[32m━━━━━━━━━━━━━━━━━━━━\u001b[0m\u001b[37m\u001b[0m \u001b[1m0s\u001b[0m 3ms/step - loss: 20.0672  \n",
            "Epoch 99/100\n",
            "\u001b[1m8/8\u001b[0m \u001b[32m━━━━━━━━━━━━━━━━━━━━\u001b[0m\u001b[37m\u001b[0m \u001b[1m0s\u001b[0m 3ms/step - loss: 17.7932 \n",
            "Epoch 100/100\n",
            "\u001b[1m8/8\u001b[0m \u001b[32m━━━━━━━━━━━━━━━━━━━━\u001b[0m\u001b[37m\u001b[0m \u001b[1m0s\u001b[0m 3ms/step - loss: 20.5209 \n",
            "\u001b[1m1/1\u001b[0m \u001b[32m━━━━━━━━━━━━━━━━━━━━\u001b[0m\u001b[37m\u001b[0m \u001b[1m0s\u001b[0m 164ms/step - loss: 15.2873\n",
            "Test Loss: 15.287310600280762\n",
            "\u001b[1m1/1\u001b[0m \u001b[32m━━━━━━━━━━━━━━━━━━━━\u001b[0m\u001b[37m\u001b[0m \u001b[1m0s\u001b[0m 86ms/step\n"
          ]
        },
        {
          "output_type": "display_data",
          "data": {
            "text/plain": [
              "<Figure size 640x480 with 1 Axes>"
            ],
            "image/png": "[encoded data removed]"
          },
          "metadata": {}
        }
      ]
    },
    {
      "cell_type": "markdown",
      "source": [
        "**(12) Use a genetic algorithm to find the maximum number of 1's in a binary string of fixed length (also known as the \"One-Max Problem\").**\n",
        "\n",
        "Name- Sanskar Vaibhav\n",
        "Adm.No.- 22SCSE1180236"
      ],
      "metadata": {
        "id": "FEK8Fz3gejC6"
      }
    },
    {
      "cell_type": "code",
      "source": [
        "import numpy as np\n",
        "\n",
        "# Parameters\n",
        "population_size = 10\n",
        "chromosome_length = 8\n",
        "generations = 50\n",
        "p_c = 0.7  # Crossover probability\n",
        "p_m = 0.01 # Mutation probability\n",
        "\n",
        "# Generate Initial Population\n",
        "def initialize_population(size, length):\n",
        "    return np.random.randint(2, size=(size, length))\n",
        "\n",
        "# Fitness Function\n",
        "def fitness(chromosome):\n",
        "    return np.sum(chromosome)  # Count of 1's\n",
        "\n",
        "# Selection using Roulette Wheel\n",
        "def roulette_wheel_selection(population, fitness_values):\n",
        "    total_fitness = np.sum(fitness_values)\n",
        "    selection_probs = fitness_values / total_fitness\n",
        "    selected_idx = np.random.choice(len(population), p=selection_probs)\n",
        "    return population[selected_idx]\n",
        "\n",
        "# Crossover\n",
        "def crossover(parent1, parent2, p_c):\n",
        "    if np.random.rand() < p_c:\n",
        "        point = np.random.randint(1, len(parent1) - 1)\n",
        "        child1 = np.concatenate((parent1[:point], parent2[point:]))\n",
        "        child2 = np.concatenate((parent2[:point], parent1[point:]))\n",
        "        return child1, child2\n",
        "    return parent1, parent2\n",
        "\n",
        "# Mutation\n",
        "def mutate(chromosome, p_m):\n",
        "    for i in range(len(chromosome)):\n",
        "        if np.random.rand() < p_m:\n",
        "            chromosome[i] = 1 - chromosome[i]  # Flip bit\n",
        "    return chromosome\n",
        "\n",
        "# Genetic Algorithm\n",
        "population = initialize_population(population_size, chromosome_length)\n",
        "\n",
        "for gen in range(generations):\n",
        "    fitness_values = np.array([fitness(chrom) for chrom in population])\n",
        "\n",
        "    # Display progress\n",
        "    print(f\"Generation {gen + 1}: Max Fitness = {np.max(fitness_values)}\")\n",
        "\n",
        "    new_population = []\n",
        "\n",
        "    # Create new population\n",
        "    for _ in range(population_size // 2):\n",
        "        parent1 = roulette_wheel_selection(population, fitness_values)\n",
        "        parent2 = roulette_wheel_selection(population, fitness_values)\n",
        "\n",
        "        # Crossover\n",
        "        child1, child2 = crossover(parent1, parent2, p_c)\n",
        "\n",
        "        # Mutation\n",
        "        child1 = mutate(child1, p_m)\n",
        "        child2 = mutate(child2, p_m)\n",
        "\n",
        "        new_population.extend([child1, child2])\n",
        "\n",
        "    population = np.array(new_population)\n",
        "\n",
        "# Final Results\n",
        "final_fitness = np.array([fitness(chrom) for chrom in population])\n",
        "print(\"Final population fitness:\", final_fitness)\n",
        "print(\"Best solution:\", population[np.argmax(final_fitness)])\n"
      ],
      "metadata": {
        "colab": {
          "base_uri": "https://localhost:8080/"
        },
        "id": "v_-OkuEfeRXs",
        "outputId": "80a062e4-531a-45ed-9c5b-54607f556afc"
      },
      "execution_count": null,
      "outputs": [
        {
          "output_type": "stream",
          "name": "stdout",
          "text": [
            "Generation 1: Max Fitness = 5\n",
            "Generation 2: Max Fitness = 5\n",
            "Generation 3: Max Fitness = 5\n",
            "Generation 4: Max Fitness = 5\n",
            "Generation 5: Max Fitness = 5\n",
            "Generation 6: Max Fitness = 5\n",
            "Generation 7: Max Fitness = 5\n",
            "Generation 8: Max Fitness = 5\n",
            "Generation 9: Max Fitness = 5\n",
            "Generation 10: Max Fitness = 5\n",
            "Generation 11: Max Fitness = 6\n",
            "Generation 12: Max Fitness = 6\n",
            "Generation 13: Max Fitness = 6\n",
            "Generation 14: Max Fitness = 6\n",
            "Generation 15: Max Fitness = 6\n",
            "Generation 16: Max Fitness = 6\n",
            "Generation 17: Max Fitness = 6\n",
            "Generation 18: Max Fitness = 6\n",
            "Generation 19: Max Fitness = 6\n",
            "Generation 20: Max Fitness = 6\n",
            "Generation 21: Max Fitness = 6\n",
            "Generation 22: Max Fitness = 6\n",
            "Generation 23: Max Fitness = 6\n",
            "Generation 24: Max Fitness = 6\n",
            "Generation 25: Max Fitness = 6\n",
            "Generation 26: Max Fitness = 6\n",
            "Generation 27: Max Fitness = 6\n",
            "Generation 28: Max Fitness = 6\n",
            "Generation 29: Max Fitness = 6\n",
            "Generation 30: Max Fitness = 6\n",
            "Generation 31: Max Fitness = 6\n",
            "Generation 32: Max Fitness = 6\n",
            "Generation 33: Max Fitness = 6\n",
            "Generation 34: Max Fitness = 7\n",
            "Generation 35: Max Fitness = 7\n",
            "Generation 36: Max Fitness = 7\n",
            "Generation 37: Max Fitness = 7\n",
            "Generation 38: Max Fitness = 7\n",
            "Generation 39: Max Fitness = 7\n",
            "Generation 40: Max Fitness = 7\n",
            "Generation 41: Max Fitness = 7\n",
            "Generation 42: Max Fitness = 6\n",
            "Generation 43: Max Fitness = 7\n",
            "Generation 44: Max Fitness = 6\n",
            "Generation 45: Max Fitness = 6\n",
            "Generation 46: Max Fitness = 7\n",
            "Generation 47: Max Fitness = 7\n",
            "Generation 48: Max Fitness = 7\n",
            "Generation 49: Max Fitness = 7\n",
            "Generation 50: Max Fitness = 7\n",
            "Final population fitness: [8 7 7 8 7 6 8 7 7 7]\n",
            "Best solution: [1 1 1 1 1 1 1 1]\n"
          ]
        }
      ]
    },
    {
      "cell_type": "markdown",
      "source": [
        "**(13) Implementation of Fuzzy Logic-Based Tip Recommendation System for Dining Experience.\n",
        "Use Fuzzy toolbox to model tip value that is given after a dinner which can be-not good,satisfying,good and delightful and service which is poor,average or good and the tip value will range from Rs. 10 to 100.**\n",
        "\n",
        "Name- Sanskar Vaibhav\n",
        "Adm.No.- 22SCSE1180236"
      ],
      "metadata": {
        "id": "_zdS798JvqyG"
      }
    },
    {
      "cell_type": "code",
      "source": [
        "import numpy as np\n",
        "import skfuzzy as fuzz\n",
        "from skfuzzy import control as ctrl\n",
        "\n",
        "# Define linguistic variables\n",
        "satisfaction = ctrl.Antecedent(np.arange(0, 11, 1), 'satisfaction')\n",
        "service = ctrl.Antecedent(np.arange(0, 11, 1), 'service')\n",
        "tip = ctrl.Consequent(np.arange(10, 101, 1), 'tip')\n",
        "\n",
        "# Define membership functions for satisfaction\n",
        "satisfaction['not_good'] = fuzz.trimf(satisfaction.universe, [0, 0, 5])\n",
        "satisfaction['satisfying'] = fuzz.trimf(satisfaction.universe, [0, 5, 10])\n",
        "satisfaction['good'] = fuzz.trimf(satisfaction.universe, [5, 10, 10])\n",
        "satisfaction['delightful'] = fuzz.trimf(satisfaction.universe, [10, 10, 10])\n",
        "\n",
        "# Define membership functions for service\n",
        "service['poor'] = fuzz.trimf(service.universe, [0, 0, 5])\n",
        "service['average'] = fuzz.trimf(service.universe, [0, 5, 10])\n",
        "service['good'] = fuzz.trimf(service.universe, [5, 10, 10])\n",
        "\n",
        "# Define membership functions for tip\n",
        "tip['low'] = fuzz.trimf(tip.universe, [10, 10, 55])\n",
        "tip['medium'] = fuzz.trimf(tip.universe, [10, 55, 100])\n",
        "tip['high'] = fuzz.trimf(tip.universe, [55, 100, 100])\n",
        "\n",
        "# Define fuzzy rules\n",
        "rule1 = ctrl.Rule(satisfaction['not_good'] | service['poor'], tip['low'])\n",
        "rule2 = ctrl.Rule(satisfaction['satisfying'] & service['average'], tip['medium'])\n",
        "rule3 = ctrl.Rule(satisfaction['good'] | service['good'], tip['high'])\n",
        "rule4 = ctrl.Rule(satisfaction['delightful'] & service['good'], tip['high'])\n",
        "\n",
        "# Create fuzzy inference system\n",
        "tip_ctrl = ctrl.ControlSystem([rule1, rule2, rule3, rule4])\n",
        "tip_sim = ctrl.ControlSystemSimulation(tip_ctrl)\n",
        "\n",
        "# Input values (example: satisfaction=7, service=8)\n",
        "tip_sim.input['satisfaction'] = 7\n",
        "tip_sim.input['service'] = 8\n",
        "\n",
        "# Compute output\n",
        "tip_sim.compute()\n",
        "\n",
        "# Output\n",
        "print(\"Recommended tip value:\", tip_sim.output['tip'])\n",
        "tip.view(sim=tip_sim)\n"
      ],
      "metadata": {
        "colab": {
          "base_uri": "https://localhost:8080/",
          "height": 468
        },
        "id": "WZxyl-Ivvp6Y",
        "outputId": "9282ed1b-0385-40ce-854e-672bbb3497e9"
      },
      "execution_count": null,
      "outputs": [
        {
          "output_type": "stream",
          "name": "stdout",
          "text": [
            "Recommended tip value: 62.90243902439022\n"
          ]
        },
        {
          "output_type": "display_data",
          "data": {
            "text/plain": [
              "<Figure size 640x480 with 1 Axes>"
            ],
            "image/png": "[encoded data removed]"
          },
          "metadata": {}
        }
      ]
    },
    {
      "cell_type": "markdown",
      "source": [
        "**(14) Implementing Fuzzy Logic-Based Traffic Light Control System.**\n",
        "\n",
        "Name- Sanskar Vaibhav\n",
        "Adm.No.- 22SCSE1180236"
      ],
      "metadata": {
        "id": "HYOcO4g_wClp"
      }
    },
    {
      "cell_type": "code",
      "source": [
        "import numpy as np\n",
        "import skfuzzy as fuzz\n",
        "from skfuzzy import control as ctrl\n",
        "\n",
        "# Define fuzzy variables\n",
        "vehicle_density = ctrl.Antecedent(np.arange(0, 11, 1), 'vehicle_density')\n",
        "pedestrian_presence = ctrl.Antecedent(np.arange(0, 11, 1), 'pedestrian_presence')\n",
        "time_of_day = ctrl.Antecedent(np.arange(0, 25, 1), 'time_of_day')\n",
        "light_duration = ctrl.Consequent(np.arange(0, 61, 1), 'light_duration')\n",
        "\n",
        "# Define membership functions\n",
        "vehicle_density['low'] = fuzz.trimf(vehicle_density.universe, [0, 0, 5])\n",
        "vehicle_density['medium'] = fuzz.trimf(vehicle_density.universe, [0, 5, 10])\n",
        "vehicle_density['high'] = fuzz.trimf(vehicle_density.universe, [5, 10, 10])\n",
        "\n",
        "pedestrian_presence['none'] = fuzz.trimf(pedestrian_presence.universe, [0, 0, 5])\n",
        "pedestrian_presence['some'] = fuzz.trimf(pedestrian_presence.universe, [0, 5, 10])\n",
        "pedestrian_presence['high'] = fuzz.trimf(pedestrian_presence.universe, [5, 10, 10])\n",
        "\n",
        "time_of_day['morning'] = fuzz.trimf(time_of_day.universe, [0, 0, 12])\n",
        "time_of_day['afternoon'] = fuzz.trimf(time_of_day.universe, [0, 12, 24])\n",
        "time_of_day['night'] = fuzz.trimf(time_of_day.universe, [12, 24, 24])\n",
        "\n",
        "light_duration['short'] = fuzz.trimf(light_duration.universe, [0, 0, 30])\n",
        "light_duration['medium'] = fuzz.trimf(light_duration.universe, [0, 30, 60])\n",
        "light_duration['long'] = fuzz.trimf(light_duration.universe, [30, 60, 60])\n",
        "\n",
        "# Define fuzzy rules\n",
        "rule1 = ctrl.Rule(vehicle_density['low'] &pedestrian_presence['none'] &time_of_day['morning'], light_duration['long'])\n",
        "rule2 = ctrl.Rule(vehicle_density['medium'] &pedestrian_presence['none'] &time_of_day['morning'], light_duration['medium'])\n",
        "rule3 = ctrl.Rule(vehicle_density['high'] &pedestrian_presence['none'] &time_of_day['morning'], light_duration['short'])\n",
        "\n",
        "# Create control system\n",
        "traffic_ctrl = ctrl.ControlSystem([rule1, rule2, rule3])\n",
        "traffic_light = ctrl.ControlSystemSimulation(traffic_ctrl)\n",
        "\n",
        "# Input values\n",
        "traffic_light.input['vehicle_density'] = 3\n",
        "traffic_light.input['pedestrian_presence'] = 0\n",
        "traffic_light.input['time_of_day'] = 10\n",
        "\n",
        "# Compute output\n",
        "traffic_light.compute()\n",
        "\n",
        "# Output\n",
        "print(\"Recommended Traffic Light Duration:\", traffic_light.output['light_duration'])\n",
        "\n",
        "# Visualization (Optional)\n",
        "vehicle_density.view()\n",
        "pedestrian_presence.view()\n",
        "time_of_day.view()\n",
        "light_duration.view()\n"
      ],
      "metadata": {
        "id": "lJQ0_slDwHUw",
        "outputId": "155ab600-8b6d-4f69-c5fb-e5fc199f4303",
        "colab": {
          "base_uri": "https://localhost:8080/",
          "height": 1000
        }
      },
      "execution_count": null,
      "outputs": [
        {
          "output_type": "stream",
          "name": "stdout",
          "text": [
            "Recommended Traffic Light Duration: 31.231884057971016\n"
          ]
        },
        {
          "output_type": "display_data",
          "data": {
            "text/plain": [
              "<Figure size 640x480 with 1 Axes>"
            ],
            "image/png": "[encoded data removed]"
          },
          "metadata": {}
        },
        {
          "output_type": "display_data",
          "data": {
            "text/plain": [
              "<Figure size 640x480 with 1 Axes>"
            ],
            "image/png": "[encoded data removed]"
          },
          "metadata": {}
        },
        {
          "output_type": "display_data",
          "data": {
            "text/plain": [
              "<Figure size 640x480 with 1 Axes>"
            ],
            "image/png": "[encoded data removed]"
          },
          "metadata": {}
        },
        {
          "output_type": "display_data",
          "data": {
            "text/plain": [
              "<Figure size 640x480 with 1 Axes>"
            ],
            "image/png": "[encoded data removed]"
          },
          "metadata": {}
        }
      ]
    },
    {
      "cell_type": "markdown",
      "source": [
        "**(15) Knapsack Problem**\n",
        "\n",
        "Name- Sanskar Vaibhav\n",
        "Adm.No.- 22SCSE1180236"
      ],
      "metadata": {
        "id": "N66WeePMky7V"
      }
    },
    {
      "cell_type": "code",
      "source": [
        "import random\n",
        "import numpy as np\n",
        "\n",
        "# Problem definition\n",
        "items = [\n",
        "    {\"weight\": 10, \"value\": 60},\n",
        "    {\"weight\": 20, \"value\": 100},\n",
        "    {\"weight\": 30, \"value\": 120}\n",
        "]\n",
        "max_weight = 50\n",
        "population_size = 6\n",
        "generations = 50\n",
        "mutation_rate = 0.1\n",
        "\n",
        "# Fitness function\n",
        "def fitness(individual):\n",
        "    total_weight = sum(ind[\"weight\"] * gene for ind, gene in zip(items, individual))\n",
        "    total_value = sum(ind[\"value\"] * gene for ind, gene in zip(items, individual))\n",
        "    return total_value if total_weight <= max_weight else 0\n",
        "\n",
        "# Generate initial population\n",
        "def generate_individual():\n",
        "    return [random.randint(0, 1) for _ in range(len(items))]\n",
        "\n",
        "def generate_population(size):\n",
        "    return [generate_individual() for _ in range(size)]\n",
        "\n",
        "# Selection\n",
        "def selection(population):\n",
        "    fitnesses = [fitness(ind) for ind in population]\n",
        "    probabilities = [f / sum(fitnesses) for f in fitnesses]\n",
        "    return population[np.random.choice(len(population), p=probabilities)]\n",
        "\n",
        "# Crossover\n",
        "def crossover(parent1, parent2):\n",
        "    point = random.randint(1, len(items) - 1)\n",
        "    child1 = parent1[:point] + parent2[point:]\n",
        "    child2 = parent2[:point] + parent1[point:]\n",
        "    return child1, child2\n",
        "\n",
        "# Mutation\n",
        "def mutate(individual):\n",
        "    for i in range(len(individual)):\n",
        "        if random.random() < mutation_rate:\n",
        "            individual[i] = 1 - individual[i]\n",
        "    return individual\n",
        "\n",
        "# Genetic Algorithm\n",
        "population = generate_population(population_size)\n",
        "for gen in range(generations):\n",
        "    new_population = []\n",
        "    for _ in range(population_size // 2):\n",
        "        parent1 = selection(population)\n",
        "        parent2 = selection(population)\n",
        "        child1, child2 = crossover(parent1, parent2)\n",
        "        new_population.extend([mutate(child1), mutate(child2)])\n",
        "    population = new_population\n",
        "\n",
        "# Get the best solution\n",
        "best_individual = max(population, key=fitness)\n",
        "print(\"Best solution:\", best_individual)\n",
        "print(\"Best value:\", fitness(best_individual))\n",
        "\n"
      ],
      "metadata": {
        "colab": {
          "base_uri": "https://localhost:8080/"
        },
        "id": "AkScIbLHjDs6",
        "outputId": "a4d0f080-d4e1-49bf-fb87-6ff6c9620792"
      },
      "execution_count": null,
      "outputs": [
        {
          "output_type": "stream",
          "name": "stdout",
          "text": [
            "Best solution: [0, 1, 1]\n",
            "Best value: 220\n"
          ]
        }
      ]
    },
    {
      "cell_type": "markdown",
      "source": [
        "**(16) Creating a face recognition system with a genetic neuro-hybrid approach involves combining neural networks for feature extraction and a genetic algorithm for optimizing parameters (such as weights, thresholds, or architecture).**\n",
        "\n",
        "Name- Sanskar Vaibhav\n",
        "Adm.No.- 22SCSE1180236"
      ],
      "metadata": {
        "id": "Dr1fT-iwkyrR"
      }
    },
    {
      "cell_type": "code",
      "source": [
        "import numpy as np\n",
        "import matplotlib.pyplot as plt\n",
        "import random\n",
        "\n",
        "# Generate a simple dataset (face-like images with 3 features: nose, eyes, mouth)\n",
        "# Each feature is binary (1 or 0)\n",
        "X = np.array([\n",
        "    [1, 1, 1],  # Face 1\n",
        "    [1, 0, 1],  # Face 2\n",
        "    [0, 1, 1],  # Face 3\n",
        "    [0, 0, 1],  # Face 4\n",
        "])\n",
        "y = np.array([0, 1, 2, 3])  # Labels for faces\n",
        "\n",
        "# Neural Network Parameters\n",
        "input_size = 3\n",
        "hidden_size = 4\n",
        "output_size = 4\n",
        "population_size = 10\n",
        "num_generations = 20\n",
        "mutation_rate = 0.1\n",
        "\n",
        "# Activation Function: Sigmoid\n",
        "def sigmoid(x):\n",
        "    return 1 / (1 + np.exp(-x))\n",
        "\n",
        "# Fitness Function\n",
        "def fitness(weights):\n",
        "    input_hidden = weights[:input_size * hidden_size].reshape(input_size, hidden_size)\n",
        "    hidden_output = weights[input_size * hidden_size:].reshape(hidden_size, output_size)\n",
        "\n",
        "    # Forward Propagation\n",
        "    hidden_layer = sigmoid(np.dot(X, input_hidden))\n",
        "    output_layer = sigmoid(np.dot(hidden_layer, hidden_output))\n",
        "\n",
        "    predictions = np.argmax(output_layer, axis=1)\n",
        "    accuracy = np.mean(predictions == y)  # Fitness is based on classification accuracy\n",
        "    return accuracy\n",
        "\n",
        "# Generate Initial Population\n",
        "def initialize_population():\n",
        "    return [np.random.uniform(-1, 1, input_size * hidden_size + hidden_size * output_size) for _ in range(population_size)]\n",
        "\n",
        "# Selection\n",
        "def select_parents(population, fitness_scores):\n",
        "    total_fitness = sum(fitness_scores)\n",
        "    selection_probs = [score / total_fitness for score in fitness_scores]\n",
        "    parents = random.choices(population, weights=selection_probs, k=2)\n",
        "    return parents\n",
        "\n",
        "# Crossover\n",
        "def crossover(parent1, parent2):\n",
        "    point = random.randint(0, len(parent1) - 1)\n",
        "    child1 = np.concatenate((parent1[:point], parent2[point:]))\n",
        "    child2 = np.concatenate((parent2[:point], parent1[point:]))\n",
        "    return child1, child2\n",
        "\n",
        "# Mutation\n",
        "def mutate(chromosome):\n",
        "    for i in range(len(chromosome)):\n",
        "        if random.random() < mutation_rate:\n",
        "            chromosome[i] += np.random.uniform(-0.5, 0.5)\n",
        "    return chromosome\n",
        "\n",
        "# Genetic Algorithm\n",
        "def genetic_algorithm():\n",
        "    population = initialize_population()\n",
        "\n",
        "    for generation in range(num_generations):\n",
        "        fitness_scores = [fitness(ind) for ind in population]\n",
        "\n",
        "        # Best individual\n",
        "        best_individual = population[np.argmax(fitness_scores)]\n",
        "        best_fitness = max(fitness_scores)\n",
        "\n",
        "        print(f\"Generation {generation+1} - Best Fitness: {best_fitness:.4f}\")\n",
        "\n",
        "        # Selection and Reproduction\n",
        "        new_population = []\n",
        "        for _ in range(population_size // 2):\n",
        "            parent1, parent2 = select_parents(population, fitness_scores)\n",
        "            child1, child2 = crossover(parent1, parent2)\n",
        "            new_population.extend([mutate(child1), mutate(child2)])\n",
        "\n",
        "        population = new_population\n",
        "\n",
        "    return best_individual\n",
        "\n",
        "# Train Genetic Algorithm\n",
        "best_weights = genetic_algorithm()\n",
        "\n",
        "# Test Neural Network with Optimized Weights\n",
        "input_hidden = best_weights[:input_size * hidden_size].reshape(input_size, hidden_size)\n",
        "hidden_output = best_weights[input_size * hidden_size:].reshape(hidden_size, output_size)\n",
        "\n",
        "hidden_layer = sigmoid(np.dot(X, input_hidden))\n",
        "output_layer = sigmoid(np.dot(hidden_layer, hidden_output))\n",
        "\n",
        "print(\"\\nPredictions:\")\n",
        "predictions = np.argmax(output_layer, axis=1)\n",
        "print(\"Predicted Labels:\", predictions)\n",
        "print(\"Actual Labels:   \", y)\n"
      ],
      "metadata": {
        "colab": {
          "base_uri": "https://localhost:8080/"
        },
        "id": "4m6p8ISskrI5",
        "outputId": "a071b0d2-8b31-451c-acb6-f66a4a33e78d"
      },
      "execution_count": null,
      "outputs": [
        {
          "output_type": "stream",
          "name": "stdout",
          "text": [
            "Generation 1 - Best Fitness: 0.2500\n",
            "Generation 2 - Best Fitness: 0.2500\n",
            "Generation 3 - Best Fitness: 0.2500\n",
            "Generation 4 - Best Fitness: 0.2500\n",
            "Generation 5 - Best Fitness: 0.2500\n",
            "Generation 6 - Best Fitness: 0.2500\n",
            "Generation 7 - Best Fitness: 0.2500\n",
            "Generation 8 - Best Fitness: 0.5000\n",
            "Generation 9 - Best Fitness: 0.5000\n",
            "Generation 10 - Best Fitness: 0.2500\n",
            "Generation 11 - Best Fitness: 0.2500\n",
            "Generation 12 - Best Fitness: 0.5000\n",
            "Generation 13 - Best Fitness: 0.2500\n",
            "Generation 14 - Best Fitness: 0.7500\n",
            "Generation 15 - Best Fitness: 0.5000\n",
            "Generation 16 - Best Fitness: 0.7500\n",
            "Generation 17 - Best Fitness: 0.5000\n",
            "Generation 18 - Best Fitness: 0.5000\n",
            "Generation 19 - Best Fitness: 0.5000\n",
            "Generation 20 - Best Fitness: 0.5000\n",
            "\n",
            "Predictions:\n",
            "Predicted Labels: [2 1 2 1]\n",
            "Actual Labels:    [0 1 2 3]\n"
          ]
        }
      ]
    },
    {
      "cell_type": "markdown",
      "source": [
        "**(17) Face Recognition using Genetic Algorithm Optimized Neural Networks on the Labeled Faces in the Wild (LFW).**\n",
        "\n",
        "Name- Sanskar Vaibhav\n",
        "Adm.No.- 22SCSE1180236"
      ],
      "metadata": {
        "id": "YATEbzNTHzdW"
      }
    },
    {
      "cell_type": "code",
      "source": [
        "from sklearn.datasets import fetch_lfw_people\n",
        "from sklearn.model_selection import train_test_split\n",
        "from sklearn.preprocessing import LabelEncoder\n",
        "from sklearn.metrics import accuracy_score\n",
        "import matplotlib.pyplot as plt\n",
        "import numpy as np\n",
        "import random\n",
        "\n",
        "# Fetch LFW dataset\n",
        "lfw = fetch_lfw_people(min_faces_per_person=20, resize=0.4)\n",
        "X = lfw.data  # Flattened pixel data\n",
        "y = lfw.target  # Labels (person IDs)\n",
        "target_names = lfw.target_names\n",
        "\n",
        "# Visualize a few faces\n",
        "fig, axes = plt.subplots(2, 5, figsize=(12, 6))\n",
        "for i, ax in enumerate(axes.ravel()):\n",
        "    ax.imshow(lfw.images[i], cmap='gray')\n",
        "    ax.set_title(target_names[y[i]])\n",
        "    ax.axis('off')\n",
        "plt.tight_layout()\n",
        "plt.show()\n",
        "\n",
        "# Encode labels\n",
        "encoder = LabelEncoder()\n",
        "y_encoded = encoder.fit_transform(y)\n",
        "\n",
        "# Train-Test Split\n",
        "X_train, X_test, y_train, y_test = train_test_split(X, y_encoded, test_size=0.3, random_state=42)\n",
        "\n",
        "# Genetic Algorithm Parameters\n",
        "input_size = X_train.shape[1]\n",
        "hidden_size = 100  # Number of neurons in the hidden layer\n",
        "output_size = len(target_names)\n",
        "population_size = 10\n",
        "num_generations = 20\n",
        "mutation_rate = 0.1\n",
        "\n",
        "# Sigmoid activation function\n",
        "def sigmoid(x):\n",
        "    return 1 / (1 + np.exp(-x))\n",
        "\n",
        "# Fitness function to evaluate population\n",
        "def fitness(weights, X_train, y_train):\n",
        "    input_hidden = weights[:input_size * hidden_size].reshape(input_size, hidden_size)\n",
        "    hidden_output = weights[input_size * hidden_size:].reshape(hidden_size, output_size)\n",
        "\n",
        "    hidden_layer = sigmoid(np.dot(X_train, input_hidden))\n",
        "    output_layer = sigmoid(np.dot(hidden_layer, hidden_output))\n",
        "\n",
        "    predictions = np.argmax(output_layer, axis=1)\n",
        "    return accuracy_score(y_train, predictions)\n",
        "\n",
        "# Initialize Population\n",
        "def initialize_population():\n",
        "    return [np.random.uniform(-1, 1, input_size * hidden_size + hidden_size * output_size) for _ in range(population_size)]\n",
        "\n",
        "# Selection\n",
        "def select_parents(population, fitness_scores):\n",
        "    total_fitness = sum(fitness_scores)\n",
        "    selection_probs = [score / total_fitness for score in fitness_scores]\n",
        "    parents = random.choices(population, weights=selection_probs, k=2)\n",
        "    return parents\n",
        "\n",
        "# Crossover\n",
        "def crossover(parent1, parent2):\n",
        "    point = random.randint(0, len(parent1) - 1)\n",
        "    child1 = np.concatenate((parent1[:point], parent2[point:]))\n",
        "    child2 = np.concatenate((parent2[:point], parent1[point:]))\n",
        "    return child1, child2\n",
        "\n",
        "# Mutation\n",
        "def mutate(chromosome):\n",
        "    for i in range(len(chromosome)):\n",
        "        if random.random() < mutation_rate:\n",
        "            chromosome[i] += np.random.uniform(-0.5, 0.5)\n",
        "    return chromosome\n",
        "\n",
        "# Genetic Algorithm\n",
        "def genetic_algorithm(X_train, y_train):\n",
        "    population = initialize_population()\n",
        "    best_fitness_over_generations = []\n",
        "\n",
        "    for generation in range(num_generations):\n",
        "        fitness_scores = [fitness(ind, X_train, y_train) for ind in population]\n",
        "\n",
        "        # Best individual\n",
        "        best_individual = population[np.argmax(fitness_scores)]\n",
        "        best_fitness = max(fitness_scores)\n",
        "        best_fitness_over_generations.append(best_fitness)\n",
        "\n",
        "        print(f\"Generation {generation+1} - Best Fitness: {best_fitness:.4f}\")\n",
        "\n",
        "        # Selection and Reproduction\n",
        "        new_population = []\n",
        "        for _ in range(population_size // 2):\n",
        "            parent1, parent2 = select_parents(population, fitness_scores)\n",
        "            child1, child2 = crossover(parent1, parent2)\n",
        "            new_population.extend([mutate(child1), mutate(child2)])\n",
        "\n",
        "        population = new_population\n",
        "\n",
        "    return best_individual, best_fitness_over_generations\n",
        "\n",
        "# Run Genetic Algorithm\n",
        "best_weights, fitness_history = genetic_algorithm(X_train, y_train)\n",
        "\n",
        "# Plot fitness over generations\n",
        "plt.plot(fitness_history, marker='o')\n",
        "plt.title('Fitness over Generations')\n",
        "plt.xlabel('Generation')\n",
        "plt.ylabel('Fitness (Accuracy)')\n",
        "plt.grid()\n",
        "plt.show()\n",
        "\n",
        "# Test Optimized Weights\n",
        "input_hidden = best_weights[:input_size * hidden_size].reshape(input_size, hidden_size)\n",
        "hidden_output = best_weights[input_size * hidden_size:].reshape(hidden_size, output_size)\n",
        "\n",
        "hidden_layer = sigmoid(np.dot(X_test, input_hidden))\n",
        "output_layer = sigmoid(np.dot(hidden_layer, hidden_output))\n",
        "\n",
        "predictions = np.argmax(output_layer, axis=1)\n",
        "test_accuracy = accuracy_score(y_test, predictions)\n",
        "\n",
        "print(f\"Test Accuracy: {test_accuracy:.4f}\")"
      ],
      "metadata": {
        "id": "Rclgd4G1mAPa"
      },
      "execution_count": null,
      "outputs": []
    }
  ]
}